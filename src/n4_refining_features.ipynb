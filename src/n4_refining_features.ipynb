{
 "cells": [
  {
   "cell_type": "markdown",
   "metadata": {},
   "source": [
    "# Refining the number of features\n",
    "\n",
    "The goal of this notebook is to investigate the consequences of refining the number of features. First we limit the features to all numerical features and the set of categorical features for which we have a clear explanation in the dataset description. We figured that these are the most crucial features. We preprocess these according to the correct way. We find out that we do not have to impute any values, we only have to delete approximately a 1000 rows for missing values in the `B` column (both NaNs and 0 values for which there is no explanation). We then train a RandomForrestClassifier and a DecisionTreeClassifier. We found out using this that the performance barely decreased when we used these simpler models with a far smaller number of input features. Furthermore, this analysis let us investigate the feature importance. This allows us to refine the number of features even further. \n",
    "\n",
    "- Conclusions: despite the earlier reduction in the number of features, we see that the Random Forest model and even a simpler Decision Tree still hold up very well. We find that we can achieve a accuracy of 97.3% with these models. This is very good compared to the 98.6% which was achieved with all features. Furthermore, the feature importances show that we can still reduce the number of features even further. \n",
    "\n",
    "In the following **Notebook `5` - all final models.ipynb** we provide all models with this newly refined small set of features."
   ]
  },
  {
   "cell_type": "code",
   "execution_count": 78,
   "metadata": {},
   "outputs": [],
   "source": [
    "import pandas as pd\n",
    "import re\n",
    "\n",
    "# Load the Excel file\n",
    "file_path = '../data/luiss_data_anonym.xlsx' # Update this path\n",
    "df = pd.read_excel(file_path)"
   ]
  },
  {
   "cell_type": "code",
   "execution_count": 79,
   "metadata": {},
   "outputs": [
    {
     "name": "stderr",
     "output_type": "stream",
     "text": [
      "C:\\Users\\20202034\\AppData\\Local\\Temp\\ipykernel_10408\\1922747725.py:4: SettingWithCopyWarning:\n",
      "\n",
      "\n",
      "A value is trying to be set on a copy of a slice from a DataFrame.\n",
      "Try using .loc[row_indexer,col_indexer] = value instead\n",
      "\n",
      "See the caveats in the documentation: https://pandas.pydata.org/pandas-docs/stable/user_guide/indexing.html#returning-a-view-versus-a-copy\n",
      "\n",
      "C:\\Users\\20202034\\AppData\\Local\\Temp\\ipykernel_10408\\1922747725.py:5: SettingWithCopyWarning:\n",
      "\n",
      "\n",
      "A value is trying to be set on a copy of a slice from a DataFrame.\n",
      "Try using .loc[row_indexer,col_indexer] = value instead\n",
      "\n",
      "See the caveats in the documentation: https://pandas.pydata.org/pandas-docs/stable/user_guide/indexing.html#returning-a-view-versus-a-copy\n",
      "\n"
     ]
    }
   ],
   "source": [
    "# Delete all rows for which IvaM is missing because this is the value we want to predict\n",
    "df1 = df[~df.IvaM.isna()]\n",
    "\n",
    "# Which features to use:\n",
    "# Features with extra explanation --> extra important\n",
    "categorical_features = [\"A\", \"B\", \"Tdoc\", \"Iva\", \"IvaM\", \"TM\", \"TIva\", \"Caus\"]\n",
    "# Keep all numeric features\n",
    "numeric_features = df1.select_dtypes(include=['int64', 'float64']).columns.tolist()\n",
    "numeric_features = [col for col in numeric_features if col not in categorical_features]  # don't add column double\n",
    "# Total set of columns \n",
    "total_set_of_columns = categorical_features + numeric_features\n",
    "df2 = df1[total_set_of_columns]\n",
    "\n",
    "# delete all rows with over 50 percent missing values\n",
    "missing_percentage = df2.isnull().sum() * 100 / len(df)\n",
    "columns_to_drop = missing_percentage[missing_percentage > 50].index\n",
    "columns_to_drop = list(columns_to_drop)\n",
    "columns_to_drop.append(\"Unnamed: 0\")\n",
    "df_cleaned = df2.drop(columns=columns_to_drop)"
   ]
  },
  {
   "cell_type": "code",
   "execution_count": 80,
   "metadata": {},
   "outputs": [
    {
     "data": {
      "text/html": [
       "<div>\n",
       "<style scoped>\n",
       "    .dataframe tbody tr th:only-of-type {\n",
       "        vertical-align: middle;\n",
       "    }\n",
       "\n",
       "    .dataframe tbody tr th {\n",
       "        vertical-align: top;\n",
       "    }\n",
       "\n",
       "    .dataframe thead th {\n",
       "        text-align: right;\n",
       "    }\n",
       "</style>\n",
       "<table border=\"1\" class=\"dataframe\">\n",
       "  <thead>\n",
       "    <tr style=\"text-align: right;\">\n",
       "      <th></th>\n",
       "      <th>Number of NaNs</th>\n",
       "      <th>Percentage of NaNs</th>\n",
       "    </tr>\n",
       "  </thead>\n",
       "  <tbody>\n",
       "    <tr>\n",
       "      <th>A</th>\n",
       "      <td>0</td>\n",
       "      <td>0.0</td>\n",
       "    </tr>\n",
       "    <tr>\n",
       "      <th>Tdoc</th>\n",
       "      <td>0</td>\n",
       "      <td>0.0</td>\n",
       "    </tr>\n",
       "    <tr>\n",
       "      <th>Iva</th>\n",
       "      <td>0</td>\n",
       "      <td>0.0</td>\n",
       "    </tr>\n",
       "    <tr>\n",
       "      <th>IvaM</th>\n",
       "      <td>0</td>\n",
       "      <td>0.0</td>\n",
       "    </tr>\n",
       "    <tr>\n",
       "      <th>TM</th>\n",
       "      <td>0</td>\n",
       "      <td>0.0</td>\n",
       "    </tr>\n",
       "    <tr>\n",
       "      <th>TIva</th>\n",
       "      <td>0</td>\n",
       "      <td>0.0</td>\n",
       "    </tr>\n",
       "    <tr>\n",
       "      <th>Caus</th>\n",
       "      <td>0</td>\n",
       "      <td>0.0</td>\n",
       "    </tr>\n",
       "    <tr>\n",
       "      <th>Ateco</th>\n",
       "      <td>0</td>\n",
       "      <td>0.0</td>\n",
       "    </tr>\n",
       "    <tr>\n",
       "      <th>Importo</th>\n",
       "      <td>0</td>\n",
       "      <td>0.0</td>\n",
       "    </tr>\n",
       "    <tr>\n",
       "      <th>Conto</th>\n",
       "      <td>0</td>\n",
       "      <td>0.0</td>\n",
       "    </tr>\n",
       "    <tr>\n",
       "      <th>ContoStd</th>\n",
       "      <td>0</td>\n",
       "      <td>0.0</td>\n",
       "    </tr>\n",
       "    <tr>\n",
       "      <th>CoDitta</th>\n",
       "      <td>0</td>\n",
       "      <td>0.0</td>\n",
       "    </tr>\n",
       "  </tbody>\n",
       "</table>\n",
       "</div>"
      ],
      "text/plain": [
       "          Number of NaNs  Percentage of NaNs\n",
       "A                      0                 0.0\n",
       "Tdoc                   0                 0.0\n",
       "Iva                    0                 0.0\n",
       "IvaM                   0                 0.0\n",
       "TM                     0                 0.0\n",
       "TIva                   0                 0.0\n",
       "Caus                   0                 0.0\n",
       "Ateco                  0                 0.0\n",
       "Importo                0                 0.0\n",
       "Conto                  0                 0.0\n",
       "ContoStd               0                 0.0\n",
       "CoDitta                0                 0.0"
      ]
     },
     "execution_count": 80,
     "metadata": {},
     "output_type": "execute_result"
    }
   ],
   "source": [
    "df = df_cleaned\n",
    "\n",
    "# Calculate number of NaNs per column\n",
    "nans_per_column = df.isnull().sum()\n",
    "\n",
    "# Calculate percentage of NaNs per column\n",
    "percentage_nans_per_column = (df.isnull().sum() / len(df)) * 100\n",
    "\n",
    "# Display as dataframe\n",
    "nans_df = pd.DataFrame({'Number of NaNs': nans_per_column, 'Percentage of NaNs': percentage_nans_per_column})\n",
    "nans_df"
   ]
  },
  {
   "cell_type": "code",
   "execution_count": 4,
   "metadata": {},
   "outputs": [
    {
     "name": "stderr",
     "output_type": "stream",
     "text": [
      "C:\\Users\\20202034\\AppData\\Local\\Temp\\ipykernel_10408\\1392990521.py:3: SettingWithCopyWarning: \n",
      "A value is trying to be set on a copy of a slice from a DataFrame.\n",
      "Try using .loc[row_indexer,col_indexer] = value instead\n",
      "\n",
      "See the caveats in the documentation: https://pandas.pydata.org/pandas-docs/stable/user_guide/indexing.html#returning-a-view-versus-a-copy\n",
      "  df['B'] = df['B'].apply(lambda x: 1 if x in ['S', 'C', 'X'] else 0)  # S, C, X refer to Yes, N refers to No\n"
     ]
    }
   ],
   "source": [
    "# special care for column B:\n",
    "df = df[(df.B != 0) & ~df.B.isna()]  # besides missing values the 0s are a value that is not described in dataset description\n",
    "df['B'] = df['B'].apply(lambda x: 1 if x in ['S', 'C', 'X'] else 0)  # S, C, X refer to Yes, N refers to No"
   ]
  },
  {
   "cell_type": "code",
   "execution_count": 81,
   "metadata": {},
   "outputs": [
    {
     "data": {
      "text/plain": [
       "A              13\n",
       "Tdoc           11\n",
       "Iva            24\n",
       "IvaM           60\n",
       "TM             12\n",
       "TIva           12\n",
       "Caus           38\n",
       "Ateco         386\n",
       "Importo     22487\n",
       "Conto         703\n",
       "ContoStd      365\n",
       "CoDitta       725\n",
       "dtype: int64"
      ]
     },
     "execution_count": 81,
     "metadata": {},
     "output_type": "execute_result"
    }
   ],
   "source": [
    "df.nunique()  # Make sure we don't have columns with a single value -> no predictive power"
   ]
  },
  {
   "cell_type": "code",
   "execution_count": 82,
   "metadata": {},
   "outputs": [
    {
     "data": {
      "text/html": [
       "<div>\n",
       "<style scoped>\n",
       "    .dataframe tbody tr th:only-of-type {\n",
       "        vertical-align: middle;\n",
       "    }\n",
       "\n",
       "    .dataframe tbody tr th {\n",
       "        vertical-align: top;\n",
       "    }\n",
       "\n",
       "    .dataframe thead th {\n",
       "        text-align: right;\n",
       "    }\n",
       "</style>\n",
       "<table border=\"1\" class=\"dataframe\">\n",
       "  <thead>\n",
       "    <tr style=\"text-align: right;\">\n",
       "      <th></th>\n",
       "      <th>A</th>\n",
       "      <th>Tdoc</th>\n",
       "      <th>Iva</th>\n",
       "      <th>IvaM</th>\n",
       "      <th>TM</th>\n",
       "      <th>TIva</th>\n",
       "      <th>Caus</th>\n",
       "      <th>Ateco</th>\n",
       "      <th>Importo</th>\n",
       "      <th>Conto</th>\n",
       "      <th>ContoStd</th>\n",
       "      <th>CoDitta</th>\n",
       "    </tr>\n",
       "  </thead>\n",
       "  <tbody>\n",
       "    <tr>\n",
       "      <th>0</th>\n",
       "      <td>7</td>\n",
       "      <td>TD04</td>\n",
       "      <td>N2.2</td>\n",
       "      <td>374.0</td>\n",
       "      <td>7</td>\n",
       "      <td>12</td>\n",
       "      <td>12</td>\n",
       "      <td>476220</td>\n",
       "      <td>3.22</td>\n",
       "      <td>6625510</td>\n",
       "      <td>6625005</td>\n",
       "      <td>533</td>\n",
       "    </tr>\n",
       "    <tr>\n",
       "      <th>1</th>\n",
       "      <td>7</td>\n",
       "      <td>TD04</td>\n",
       "      <td>N2.2</td>\n",
       "      <td>374.0</td>\n",
       "      <td>7</td>\n",
       "      <td>12</td>\n",
       "      <td>12</td>\n",
       "      <td>476220</td>\n",
       "      <td>6.20</td>\n",
       "      <td>6625510</td>\n",
       "      <td>6625005</td>\n",
       "      <td>533</td>\n",
       "    </tr>\n",
       "    <tr>\n",
       "      <th>2</th>\n",
       "      <td>7</td>\n",
       "      <td>TD04</td>\n",
       "      <td>N2.2</td>\n",
       "      <td>374.0</td>\n",
       "      <td>7</td>\n",
       "      <td>12</td>\n",
       "      <td>12</td>\n",
       "      <td>476220</td>\n",
       "      <td>21.06</td>\n",
       "      <td>6625510</td>\n",
       "      <td>6625005</td>\n",
       "      <td>533</td>\n",
       "    </tr>\n",
       "    <tr>\n",
       "      <th>3</th>\n",
       "      <td>7</td>\n",
       "      <td>TD04</td>\n",
       "      <td>N2.2</td>\n",
       "      <td>374.0</td>\n",
       "      <td>7</td>\n",
       "      <td>12</td>\n",
       "      <td>12</td>\n",
       "      <td>476220</td>\n",
       "      <td>9.50</td>\n",
       "      <td>6625510</td>\n",
       "      <td>6625005</td>\n",
       "      <td>533</td>\n",
       "    </tr>\n",
       "    <tr>\n",
       "      <th>4</th>\n",
       "      <td>7</td>\n",
       "      <td>TD04</td>\n",
       "      <td>N2.2</td>\n",
       "      <td>374.0</td>\n",
       "      <td>7</td>\n",
       "      <td>12</td>\n",
       "      <td>12</td>\n",
       "      <td>476220</td>\n",
       "      <td>11.38</td>\n",
       "      <td>6625510</td>\n",
       "      <td>6625005</td>\n",
       "      <td>533</td>\n",
       "    </tr>\n",
       "    <tr>\n",
       "      <th>...</th>\n",
       "      <td>...</td>\n",
       "      <td>...</td>\n",
       "      <td>...</td>\n",
       "      <td>...</td>\n",
       "      <td>...</td>\n",
       "      <td>...</td>\n",
       "      <td>...</td>\n",
       "      <td>...</td>\n",
       "      <td>...</td>\n",
       "      <td>...</td>\n",
       "      <td>...</td>\n",
       "      <td>...</td>\n",
       "    </tr>\n",
       "    <tr>\n",
       "      <th>134432</th>\n",
       "      <td>7</td>\n",
       "      <td>TD01</td>\n",
       "      <td>N1</td>\n",
       "      <td>315.0</td>\n",
       "      <td>7</td>\n",
       "      <td>11</td>\n",
       "      <td>11</td>\n",
       "      <td>563000</td>\n",
       "      <td>-10.00</td>\n",
       "      <td>1840005</td>\n",
       "      <td>1840005</td>\n",
       "      <td>62</td>\n",
       "    </tr>\n",
       "    <tr>\n",
       "      <th>134433</th>\n",
       "      <td>7</td>\n",
       "      <td>TD01</td>\n",
       "      <td>N1</td>\n",
       "      <td>315.0</td>\n",
       "      <td>7</td>\n",
       "      <td>11</td>\n",
       "      <td>11</td>\n",
       "      <td>563000</td>\n",
       "      <td>120.00</td>\n",
       "      <td>1840005</td>\n",
       "      <td>1840005</td>\n",
       "      <td>62</td>\n",
       "    </tr>\n",
       "    <tr>\n",
       "      <th>134434</th>\n",
       "      <td>7</td>\n",
       "      <td>TD01</td>\n",
       "      <td>N1</td>\n",
       "      <td>315.0</td>\n",
       "      <td>7</td>\n",
       "      <td>11</td>\n",
       "      <td>11</td>\n",
       "      <td>563000</td>\n",
       "      <td>-150.00</td>\n",
       "      <td>1840005</td>\n",
       "      <td>1840005</td>\n",
       "      <td>62</td>\n",
       "    </tr>\n",
       "    <tr>\n",
       "      <th>134435</th>\n",
       "      <td>7</td>\n",
       "      <td>TD01</td>\n",
       "      <td>N1</td>\n",
       "      <td>315.0</td>\n",
       "      <td>7</td>\n",
       "      <td>11</td>\n",
       "      <td>11</td>\n",
       "      <td>563000</td>\n",
       "      <td>52.00</td>\n",
       "      <td>1840005</td>\n",
       "      <td>1840005</td>\n",
       "      <td>62</td>\n",
       "    </tr>\n",
       "    <tr>\n",
       "      <th>134436</th>\n",
       "      <td>7</td>\n",
       "      <td>TD01</td>\n",
       "      <td>N1</td>\n",
       "      <td>315.0</td>\n",
       "      <td>7</td>\n",
       "      <td>11</td>\n",
       "      <td>11</td>\n",
       "      <td>563000</td>\n",
       "      <td>-46.00</td>\n",
       "      <td>1840005</td>\n",
       "      <td>1840005</td>\n",
       "      <td>62</td>\n",
       "    </tr>\n",
       "  </tbody>\n",
       "</table>\n",
       "<p>133966 rows × 12 columns</p>\n",
       "</div>"
      ],
      "text/plain": [
       "        A  Tdoc   Iva   IvaM  TM TIva Caus   Ateco  Importo    Conto  \\\n",
       "0       7  TD04  N2.2  374.0   7   12   12  476220     3.22  6625510   \n",
       "1       7  TD04  N2.2  374.0   7   12   12  476220     6.20  6625510   \n",
       "2       7  TD04  N2.2  374.0   7   12   12  476220    21.06  6625510   \n",
       "3       7  TD04  N2.2  374.0   7   12   12  476220     9.50  6625510   \n",
       "4       7  TD04  N2.2  374.0   7   12   12  476220    11.38  6625510   \n",
       "...    ..   ...   ...    ...  ..  ...  ...     ...      ...      ...   \n",
       "134432  7  TD01    N1  315.0   7   11   11  563000   -10.00  1840005   \n",
       "134433  7  TD01    N1  315.0   7   11   11  563000   120.00  1840005   \n",
       "134434  7  TD01    N1  315.0   7   11   11  563000  -150.00  1840005   \n",
       "134435  7  TD01    N1  315.0   7   11   11  563000    52.00  1840005   \n",
       "134436  7  TD01    N1  315.0   7   11   11  563000   -46.00  1840005   \n",
       "\n",
       "        ContoStd  CoDitta  \n",
       "0        6625005      533  \n",
       "1        6625005      533  \n",
       "2        6625005      533  \n",
       "3        6625005      533  \n",
       "4        6625005      533  \n",
       "...          ...      ...  \n",
       "134432   1840005       62  \n",
       "134433   1840005       62  \n",
       "134434   1840005       62  \n",
       "134435   1840005       62  \n",
       "134436   1840005       62  \n",
       "\n",
       "[133966 rows x 12 columns]"
      ]
     },
     "execution_count": 82,
     "metadata": {},
     "output_type": "execute_result"
    }
   ],
   "source": [
    "df"
   ]
  },
  {
   "cell_type": "code",
   "execution_count": 83,
   "metadata": {},
   "outputs": [
    {
     "name": "stdout",
     "output_type": "stream",
     "text": [
      "60\n"
     ]
    },
    {
     "data": {
      "text/plain": [
       "IvaM\n",
       "374.0    22129\n",
       "324.0    20895\n",
       "315.0    16589\n",
       "312.0    11872\n",
       "381.0    11061\n",
       "22.0      7237\n",
       "302.0     6522\n",
       "310.0     6160\n",
       "341.0     4426\n",
       "326.0     4124\n",
       "300.0     3771\n",
       "325.0     3410\n",
       "308.0     2628\n",
       "317.0     2572\n",
       "354.0     1960\n",
       "377.0     1531\n",
       "358.0     1104\n",
       "375.0      844\n",
       "340.0      626\n",
       "314.0      616\n",
       "307.0      576\n",
       "371.0      544\n",
       "336.0      439\n",
       "306.0      425\n",
       "346.0      365\n",
       "370.0      230\n",
       "372.0      192\n",
       "309.0      189\n",
       "10.0       175\n",
       "304.0      152\n",
       "323.0      144\n",
       "622.0      106\n",
       "345.0       68\n",
       "347.0       67\n",
       "301.0       65\n",
       "376.0       29\n",
       "356.0       23\n",
       "322.0       20\n",
       "318.0       11\n",
       "379.0       11\n",
       "2.0          8\n",
       "327.0        5\n",
       "311.0        5\n",
       "35.0         5\n",
       "222.0        4\n",
       "329.0        3\n",
       "399.0        3\n",
       "331.0        3\n",
       "321.0        3\n",
       "303.0        3\n",
       "722.0        3\n",
       "334.0        2\n",
       "350.0        2\n",
       "316.0        2\n",
       "367.0        2\n",
       "355.0        1\n",
       "23.0         1\n",
       "110.0        1\n",
       "339.0        1\n",
       "369.0        1\n",
       "Name: count, dtype: int64"
      ]
     },
     "execution_count": 83,
     "metadata": {},
     "output_type": "execute_result"
    }
   ],
   "source": [
    "# We still find all 60 classes occurring in the dataset\n",
    "category_counts = df['IvaM'].value_counts()\n",
    "print(df.IvaM.nunique())\n",
    "category_counts"
   ]
  },
  {
   "cell_type": "code",
   "execution_count": 84,
   "metadata": {},
   "outputs": [
    {
     "data": {
      "text/html": [
       "<div>\n",
       "<style scoped>\n",
       "    .dataframe tbody tr th:only-of-type {\n",
       "        vertical-align: middle;\n",
       "    }\n",
       "\n",
       "    .dataframe tbody tr th {\n",
       "        vertical-align: top;\n",
       "    }\n",
       "\n",
       "    .dataframe thead th {\n",
       "        text-align: right;\n",
       "    }\n",
       "</style>\n",
       "<table border=\"1\" class=\"dataframe\">\n",
       "  <thead>\n",
       "    <tr style=\"text-align: right;\">\n",
       "      <th></th>\n",
       "      <th>Number of NaNs</th>\n",
       "      <th>Percentage of NaNs</th>\n",
       "    </tr>\n",
       "  </thead>\n",
       "  <tbody>\n",
       "    <tr>\n",
       "      <th>A</th>\n",
       "      <td>0</td>\n",
       "      <td>0.0</td>\n",
       "    </tr>\n",
       "    <tr>\n",
       "      <th>Tdoc</th>\n",
       "      <td>0</td>\n",
       "      <td>0.0</td>\n",
       "    </tr>\n",
       "    <tr>\n",
       "      <th>Iva</th>\n",
       "      <td>0</td>\n",
       "      <td>0.0</td>\n",
       "    </tr>\n",
       "    <tr>\n",
       "      <th>IvaM</th>\n",
       "      <td>0</td>\n",
       "      <td>0.0</td>\n",
       "    </tr>\n",
       "    <tr>\n",
       "      <th>TM</th>\n",
       "      <td>0</td>\n",
       "      <td>0.0</td>\n",
       "    </tr>\n",
       "    <tr>\n",
       "      <th>TIva</th>\n",
       "      <td>0</td>\n",
       "      <td>0.0</td>\n",
       "    </tr>\n",
       "    <tr>\n",
       "      <th>Caus</th>\n",
       "      <td>0</td>\n",
       "      <td>0.0</td>\n",
       "    </tr>\n",
       "    <tr>\n",
       "      <th>Ateco</th>\n",
       "      <td>0</td>\n",
       "      <td>0.0</td>\n",
       "    </tr>\n",
       "    <tr>\n",
       "      <th>Importo</th>\n",
       "      <td>0</td>\n",
       "      <td>0.0</td>\n",
       "    </tr>\n",
       "    <tr>\n",
       "      <th>Conto</th>\n",
       "      <td>0</td>\n",
       "      <td>0.0</td>\n",
       "    </tr>\n",
       "    <tr>\n",
       "      <th>ContoStd</th>\n",
       "      <td>0</td>\n",
       "      <td>0.0</td>\n",
       "    </tr>\n",
       "    <tr>\n",
       "      <th>CoDitta</th>\n",
       "      <td>0</td>\n",
       "      <td>0.0</td>\n",
       "    </tr>\n",
       "  </tbody>\n",
       "</table>\n",
       "</div>"
      ],
      "text/plain": [
       "          Number of NaNs  Percentage of NaNs\n",
       "A                      0                 0.0\n",
       "Tdoc                   0                 0.0\n",
       "Iva                    0                 0.0\n",
       "IvaM                   0                 0.0\n",
       "TM                     0                 0.0\n",
       "TIva                   0                 0.0\n",
       "Caus                   0                 0.0\n",
       "Ateco                  0                 0.0\n",
       "Importo                0                 0.0\n",
       "Conto                  0                 0.0\n",
       "ContoStd               0                 0.0\n",
       "CoDitta                0                 0.0"
      ]
     },
     "execution_count": 84,
     "metadata": {},
     "output_type": "execute_result"
    }
   ],
   "source": [
    "# Check that fully inputed\n",
    "nans_per_column = df.isnull().sum()\n",
    "\n",
    "# Calculate percentage of NaNs per column\n",
    "percentage_nans_per_column = (df.isnull().sum() / len(df)) * 100\n",
    "\n",
    "# Display as dataframe\n",
    "nans_df = pd.DataFrame({'Number of NaNs': nans_per_column, 'Percentage of NaNs': percentage_nans_per_column})\n",
    "\n",
    "nans_df"
   ]
  },
  {
   "cell_type": "markdown",
   "metadata": {},
   "source": [
    "Feature selection, and missing value removal is complete, now we need to preprocess the features in a correct manner"
   ]
  },
  {
   "cell_type": "markdown",
   "metadata": {},
   "source": [
    "# Feature selection"
   ]
  },
  {
   "cell_type": "code",
   "execution_count": 86,
   "metadata": {},
   "outputs": [],
   "source": [
    "from sklearn.ensemble import RandomForestClassifier\n",
    "import pandas as pd\n",
    "import numpy as np\n",
    "from sklearn.model_selection import train_test_split\n",
    "from sklearn.preprocessing import StandardScaler, OneHotEncoder\n",
    "from sklearn.metrics import accuracy_score\n",
    "from sklearn.metrics import confusion_matrix\n",
    "import matplotlib.pyplot as plt\n",
    "import plotly.express as px\n",
    "from sklearn.tree import DecisionTreeClassifier, export_graphviz\n",
    "import graphviz\n",
    "import seaborn as sns"
   ]
  },
  {
   "cell_type": "code",
   "execution_count": 87,
   "metadata": {},
   "outputs": [],
   "source": [
    "# Split the dataset into features and target variable\n",
    "X = df.drop('IvaM', axis=1)\n",
    "y = df[['IvaM']]"
   ]
  },
  {
   "cell_type": "code",
   "execution_count": 88,
   "metadata": {},
   "outputs": [
    {
     "data": {
      "text/html": [
       "<div>\n",
       "<style scoped>\n",
       "    .dataframe tbody tr th:only-of-type {\n",
       "        vertical-align: middle;\n",
       "    }\n",
       "\n",
       "    .dataframe tbody tr th {\n",
       "        vertical-align: top;\n",
       "    }\n",
       "\n",
       "    .dataframe thead th {\n",
       "        text-align: right;\n",
       "    }\n",
       "</style>\n",
       "<table border=\"1\" class=\"dataframe\">\n",
       "  <thead>\n",
       "    <tr style=\"text-align: right;\">\n",
       "      <th></th>\n",
       "      <th>IvaM_2.0</th>\n",
       "      <th>IvaM_10.0</th>\n",
       "      <th>IvaM_22.0</th>\n",
       "      <th>IvaM_23.0</th>\n",
       "      <th>IvaM_35.0</th>\n",
       "      <th>IvaM_110.0</th>\n",
       "      <th>IvaM_222.0</th>\n",
       "      <th>IvaM_300.0</th>\n",
       "      <th>IvaM_301.0</th>\n",
       "      <th>IvaM_302.0</th>\n",
       "      <th>...</th>\n",
       "      <th>IvaM_372.0</th>\n",
       "      <th>IvaM_374.0</th>\n",
       "      <th>IvaM_375.0</th>\n",
       "      <th>IvaM_376.0</th>\n",
       "      <th>IvaM_377.0</th>\n",
       "      <th>IvaM_379.0</th>\n",
       "      <th>IvaM_381.0</th>\n",
       "      <th>IvaM_399.0</th>\n",
       "      <th>IvaM_622.0</th>\n",
       "      <th>IvaM_722.0</th>\n",
       "    </tr>\n",
       "  </thead>\n",
       "  <tbody>\n",
       "    <tr>\n",
       "      <th>0</th>\n",
       "      <td>0.0</td>\n",
       "      <td>0.0</td>\n",
       "      <td>0.0</td>\n",
       "      <td>0.0</td>\n",
       "      <td>0.0</td>\n",
       "      <td>0.0</td>\n",
       "      <td>0.0</td>\n",
       "      <td>0.0</td>\n",
       "      <td>0.0</td>\n",
       "      <td>0.0</td>\n",
       "      <td>...</td>\n",
       "      <td>0.0</td>\n",
       "      <td>1.0</td>\n",
       "      <td>0.0</td>\n",
       "      <td>0.0</td>\n",
       "      <td>0.0</td>\n",
       "      <td>0.0</td>\n",
       "      <td>0.0</td>\n",
       "      <td>0.0</td>\n",
       "      <td>0.0</td>\n",
       "      <td>0.0</td>\n",
       "    </tr>\n",
       "    <tr>\n",
       "      <th>1</th>\n",
       "      <td>0.0</td>\n",
       "      <td>0.0</td>\n",
       "      <td>0.0</td>\n",
       "      <td>0.0</td>\n",
       "      <td>0.0</td>\n",
       "      <td>0.0</td>\n",
       "      <td>0.0</td>\n",
       "      <td>0.0</td>\n",
       "      <td>0.0</td>\n",
       "      <td>0.0</td>\n",
       "      <td>...</td>\n",
       "      <td>0.0</td>\n",
       "      <td>1.0</td>\n",
       "      <td>0.0</td>\n",
       "      <td>0.0</td>\n",
       "      <td>0.0</td>\n",
       "      <td>0.0</td>\n",
       "      <td>0.0</td>\n",
       "      <td>0.0</td>\n",
       "      <td>0.0</td>\n",
       "      <td>0.0</td>\n",
       "    </tr>\n",
       "    <tr>\n",
       "      <th>2</th>\n",
       "      <td>0.0</td>\n",
       "      <td>0.0</td>\n",
       "      <td>0.0</td>\n",
       "      <td>0.0</td>\n",
       "      <td>0.0</td>\n",
       "      <td>0.0</td>\n",
       "      <td>0.0</td>\n",
       "      <td>0.0</td>\n",
       "      <td>0.0</td>\n",
       "      <td>0.0</td>\n",
       "      <td>...</td>\n",
       "      <td>0.0</td>\n",
       "      <td>1.0</td>\n",
       "      <td>0.0</td>\n",
       "      <td>0.0</td>\n",
       "      <td>0.0</td>\n",
       "      <td>0.0</td>\n",
       "      <td>0.0</td>\n",
       "      <td>0.0</td>\n",
       "      <td>0.0</td>\n",
       "      <td>0.0</td>\n",
       "    </tr>\n",
       "    <tr>\n",
       "      <th>3</th>\n",
       "      <td>0.0</td>\n",
       "      <td>0.0</td>\n",
       "      <td>0.0</td>\n",
       "      <td>0.0</td>\n",
       "      <td>0.0</td>\n",
       "      <td>0.0</td>\n",
       "      <td>0.0</td>\n",
       "      <td>0.0</td>\n",
       "      <td>0.0</td>\n",
       "      <td>0.0</td>\n",
       "      <td>...</td>\n",
       "      <td>0.0</td>\n",
       "      <td>1.0</td>\n",
       "      <td>0.0</td>\n",
       "      <td>0.0</td>\n",
       "      <td>0.0</td>\n",
       "      <td>0.0</td>\n",
       "      <td>0.0</td>\n",
       "      <td>0.0</td>\n",
       "      <td>0.0</td>\n",
       "      <td>0.0</td>\n",
       "    </tr>\n",
       "    <tr>\n",
       "      <th>4</th>\n",
       "      <td>0.0</td>\n",
       "      <td>0.0</td>\n",
       "      <td>0.0</td>\n",
       "      <td>0.0</td>\n",
       "      <td>0.0</td>\n",
       "      <td>0.0</td>\n",
       "      <td>0.0</td>\n",
       "      <td>0.0</td>\n",
       "      <td>0.0</td>\n",
       "      <td>0.0</td>\n",
       "      <td>...</td>\n",
       "      <td>0.0</td>\n",
       "      <td>1.0</td>\n",
       "      <td>0.0</td>\n",
       "      <td>0.0</td>\n",
       "      <td>0.0</td>\n",
       "      <td>0.0</td>\n",
       "      <td>0.0</td>\n",
       "      <td>0.0</td>\n",
       "      <td>0.0</td>\n",
       "      <td>0.0</td>\n",
       "    </tr>\n",
       "    <tr>\n",
       "      <th>...</th>\n",
       "      <td>...</td>\n",
       "      <td>...</td>\n",
       "      <td>...</td>\n",
       "      <td>...</td>\n",
       "      <td>...</td>\n",
       "      <td>...</td>\n",
       "      <td>...</td>\n",
       "      <td>...</td>\n",
       "      <td>...</td>\n",
       "      <td>...</td>\n",
       "      <td>...</td>\n",
       "      <td>...</td>\n",
       "      <td>...</td>\n",
       "      <td>...</td>\n",
       "      <td>...</td>\n",
       "      <td>...</td>\n",
       "      <td>...</td>\n",
       "      <td>...</td>\n",
       "      <td>...</td>\n",
       "      <td>...</td>\n",
       "      <td>...</td>\n",
       "    </tr>\n",
       "    <tr>\n",
       "      <th>133961</th>\n",
       "      <td>0.0</td>\n",
       "      <td>0.0</td>\n",
       "      <td>0.0</td>\n",
       "      <td>0.0</td>\n",
       "      <td>0.0</td>\n",
       "      <td>0.0</td>\n",
       "      <td>0.0</td>\n",
       "      <td>0.0</td>\n",
       "      <td>0.0</td>\n",
       "      <td>0.0</td>\n",
       "      <td>...</td>\n",
       "      <td>0.0</td>\n",
       "      <td>0.0</td>\n",
       "      <td>0.0</td>\n",
       "      <td>0.0</td>\n",
       "      <td>0.0</td>\n",
       "      <td>0.0</td>\n",
       "      <td>0.0</td>\n",
       "      <td>0.0</td>\n",
       "      <td>0.0</td>\n",
       "      <td>0.0</td>\n",
       "    </tr>\n",
       "    <tr>\n",
       "      <th>133962</th>\n",
       "      <td>0.0</td>\n",
       "      <td>0.0</td>\n",
       "      <td>0.0</td>\n",
       "      <td>0.0</td>\n",
       "      <td>0.0</td>\n",
       "      <td>0.0</td>\n",
       "      <td>0.0</td>\n",
       "      <td>0.0</td>\n",
       "      <td>0.0</td>\n",
       "      <td>0.0</td>\n",
       "      <td>...</td>\n",
       "      <td>0.0</td>\n",
       "      <td>0.0</td>\n",
       "      <td>0.0</td>\n",
       "      <td>0.0</td>\n",
       "      <td>0.0</td>\n",
       "      <td>0.0</td>\n",
       "      <td>0.0</td>\n",
       "      <td>0.0</td>\n",
       "      <td>0.0</td>\n",
       "      <td>0.0</td>\n",
       "    </tr>\n",
       "    <tr>\n",
       "      <th>133963</th>\n",
       "      <td>0.0</td>\n",
       "      <td>0.0</td>\n",
       "      <td>0.0</td>\n",
       "      <td>0.0</td>\n",
       "      <td>0.0</td>\n",
       "      <td>0.0</td>\n",
       "      <td>0.0</td>\n",
       "      <td>0.0</td>\n",
       "      <td>0.0</td>\n",
       "      <td>0.0</td>\n",
       "      <td>...</td>\n",
       "      <td>0.0</td>\n",
       "      <td>0.0</td>\n",
       "      <td>0.0</td>\n",
       "      <td>0.0</td>\n",
       "      <td>0.0</td>\n",
       "      <td>0.0</td>\n",
       "      <td>0.0</td>\n",
       "      <td>0.0</td>\n",
       "      <td>0.0</td>\n",
       "      <td>0.0</td>\n",
       "    </tr>\n",
       "    <tr>\n",
       "      <th>133964</th>\n",
       "      <td>0.0</td>\n",
       "      <td>0.0</td>\n",
       "      <td>0.0</td>\n",
       "      <td>0.0</td>\n",
       "      <td>0.0</td>\n",
       "      <td>0.0</td>\n",
       "      <td>0.0</td>\n",
       "      <td>0.0</td>\n",
       "      <td>0.0</td>\n",
       "      <td>0.0</td>\n",
       "      <td>...</td>\n",
       "      <td>0.0</td>\n",
       "      <td>0.0</td>\n",
       "      <td>0.0</td>\n",
       "      <td>0.0</td>\n",
       "      <td>0.0</td>\n",
       "      <td>0.0</td>\n",
       "      <td>0.0</td>\n",
       "      <td>0.0</td>\n",
       "      <td>0.0</td>\n",
       "      <td>0.0</td>\n",
       "    </tr>\n",
       "    <tr>\n",
       "      <th>133965</th>\n",
       "      <td>0.0</td>\n",
       "      <td>0.0</td>\n",
       "      <td>0.0</td>\n",
       "      <td>0.0</td>\n",
       "      <td>0.0</td>\n",
       "      <td>0.0</td>\n",
       "      <td>0.0</td>\n",
       "      <td>0.0</td>\n",
       "      <td>0.0</td>\n",
       "      <td>0.0</td>\n",
       "      <td>...</td>\n",
       "      <td>0.0</td>\n",
       "      <td>0.0</td>\n",
       "      <td>0.0</td>\n",
       "      <td>0.0</td>\n",
       "      <td>0.0</td>\n",
       "      <td>0.0</td>\n",
       "      <td>0.0</td>\n",
       "      <td>0.0</td>\n",
       "      <td>0.0</td>\n",
       "      <td>0.0</td>\n",
       "    </tr>\n",
       "  </tbody>\n",
       "</table>\n",
       "<p>133966 rows × 60 columns</p>\n",
       "</div>"
      ],
      "text/plain": [
       "        IvaM_2.0  IvaM_10.0  IvaM_22.0  IvaM_23.0  IvaM_35.0  IvaM_110.0  \\\n",
       "0            0.0        0.0        0.0        0.0        0.0         0.0   \n",
       "1            0.0        0.0        0.0        0.0        0.0         0.0   \n",
       "2            0.0        0.0        0.0        0.0        0.0         0.0   \n",
       "3            0.0        0.0        0.0        0.0        0.0         0.0   \n",
       "4            0.0        0.0        0.0        0.0        0.0         0.0   \n",
       "...          ...        ...        ...        ...        ...         ...   \n",
       "133961       0.0        0.0        0.0        0.0        0.0         0.0   \n",
       "133962       0.0        0.0        0.0        0.0        0.0         0.0   \n",
       "133963       0.0        0.0        0.0        0.0        0.0         0.0   \n",
       "133964       0.0        0.0        0.0        0.0        0.0         0.0   \n",
       "133965       0.0        0.0        0.0        0.0        0.0         0.0   \n",
       "\n",
       "        IvaM_222.0  IvaM_300.0  IvaM_301.0  IvaM_302.0  ...  IvaM_372.0  \\\n",
       "0              0.0         0.0         0.0         0.0  ...         0.0   \n",
       "1              0.0         0.0         0.0         0.0  ...         0.0   \n",
       "2              0.0         0.0         0.0         0.0  ...         0.0   \n",
       "3              0.0         0.0         0.0         0.0  ...         0.0   \n",
       "4              0.0         0.0         0.0         0.0  ...         0.0   \n",
       "...            ...         ...         ...         ...  ...         ...   \n",
       "133961         0.0         0.0         0.0         0.0  ...         0.0   \n",
       "133962         0.0         0.0         0.0         0.0  ...         0.0   \n",
       "133963         0.0         0.0         0.0         0.0  ...         0.0   \n",
       "133964         0.0         0.0         0.0         0.0  ...         0.0   \n",
       "133965         0.0         0.0         0.0         0.0  ...         0.0   \n",
       "\n",
       "        IvaM_374.0  IvaM_375.0  IvaM_376.0  IvaM_377.0  IvaM_379.0  \\\n",
       "0              1.0         0.0         0.0         0.0         0.0   \n",
       "1              1.0         0.0         0.0         0.0         0.0   \n",
       "2              1.0         0.0         0.0         0.0         0.0   \n",
       "3              1.0         0.0         0.0         0.0         0.0   \n",
       "4              1.0         0.0         0.0         0.0         0.0   \n",
       "...            ...         ...         ...         ...         ...   \n",
       "133961         0.0         0.0         0.0         0.0         0.0   \n",
       "133962         0.0         0.0         0.0         0.0         0.0   \n",
       "133963         0.0         0.0         0.0         0.0         0.0   \n",
       "133964         0.0         0.0         0.0         0.0         0.0   \n",
       "133965         0.0         0.0         0.0         0.0         0.0   \n",
       "\n",
       "        IvaM_381.0  IvaM_399.0  IvaM_622.0  IvaM_722.0  \n",
       "0              0.0         0.0         0.0         0.0  \n",
       "1              0.0         0.0         0.0         0.0  \n",
       "2              0.0         0.0         0.0         0.0  \n",
       "3              0.0         0.0         0.0         0.0  \n",
       "4              0.0         0.0         0.0         0.0  \n",
       "...            ...         ...         ...         ...  \n",
       "133961         0.0         0.0         0.0         0.0  \n",
       "133962         0.0         0.0         0.0         0.0  \n",
       "133963         0.0         0.0         0.0         0.0  \n",
       "133964         0.0         0.0         0.0         0.0  \n",
       "133965         0.0         0.0         0.0         0.0  \n",
       "\n",
       "[133966 rows x 60 columns]"
      ]
     },
     "execution_count": 88,
     "metadata": {},
     "output_type": "execute_result"
    }
   ],
   "source": [
    "# Encode target value\n",
    "encoder = OneHotEncoder()\n",
    "# Fit and transform the data, specifying sparse=False\n",
    "encoded_data = encoder.fit_transform(y[['IvaM']]).toarray()\n",
    "# Create a DataFrame with the encoded data and column names from the encoder\n",
    "encoded_df_target = pd.DataFrame(encoded_data, columns=encoder.get_feature_names_out(['IvaM']))\n",
    "encoded_df_target"
   ]
  },
  {
   "cell_type": "code",
   "execution_count": 12,
   "metadata": {},
   "outputs": [
    {
     "data": {
      "text/plain": [
       "Index(['A_2', 'A_3', 'A_4', 'A_5', 'A_6', 'A_7', 'A_A', 'A_E', 'A_G', 'A_N',\n",
       "       'A_O', 'A_S', 'B_1', 'Tdoc_TD02', 'Tdoc_TD03', 'Tdoc_TD04', 'Tdoc_TD05',\n",
       "       'Tdoc_TD06', 'Tdoc_TD17', 'Tdoc_TD24', 'Tdoc_TD25', 'Tdoc_TD26',\n",
       "       'Tdoc_TD27', 'Iva_N2', 'Iva_N2.1', 'Iva_N2.2', 'Iva_N3', 'Iva_N3.1',\n",
       "       'Iva_N3.2', 'Iva_N3.3', 'Iva_N3.4', 'Iva_N3.5', 'Iva_N3.6', 'Iva_N4',\n",
       "       'Iva_N5', 'Iva_N6', 'Iva_N6.1', 'Iva_N6.2', 'Iva_N6.3', 'Iva_N6.4',\n",
       "       'Iva_N6.5', 'Iva_N6.6', 'Iva_N6.7', 'Iva_N6.8', 'Iva_N6.9', 'Iva_N7',\n",
       "       'TM_13', 'TM_14', 'TM_15', 'TM_16', 'TM_18', 'TM_19', 'TM_20', 'TM_3',\n",
       "       'TM_4', 'TM_7', 'TM_8'],\n",
       "      dtype='object')"
      ]
     },
     "execution_count": 12,
     "metadata": {},
     "output_type": "execute_result"
    }
   ],
   "source": [
    "encoder = OneHotEncoder(drop=\"first\")  \n",
    "# If we have categories A, B, C -> the dummies only need B, C. If these are both 0, then A = 1. Therefore we drop first category\n",
    "X[[\"A\", \"B\", \"TM\"]] = X[[\"A\", \"B\", \"TM\"]].astype(str)\n",
    "categorical_features = [\"A\", \"B\", \"Tdoc\", \"Iva\", \"TM\"]\n",
    "# Fit and transform the data, specifying sparse=False\n",
    "encoded_data = encoder.fit_transform(X[categorical_features]).toarray()\n",
    "# Create a DataFrame with the encoded data and column names from the encoder\n",
    "encoded_df_cat = pd.DataFrame(encoded_data, columns=encoder.get_feature_names_out(categorical_features))\n",
    "encoded_df_cat.columns"
   ]
  },
  {
   "cell_type": "code",
   "execution_count": 72,
   "metadata": {},
   "outputs": [
    {
     "data": {
      "text/plain": [
       "12"
      ]
     },
     "execution_count": 72,
     "metadata": {},
     "output_type": "execute_result"
    }
   ],
   "source": [
    "len(['A_2', 'A_3', 'A_4', 'A_5', 'A_6', 'A_7', 'A_A', 'A_E', 'A_G', 'A_N',\n",
    "       'A_O', 'A_S'])"
   ]
  },
  {
   "cell_type": "code",
   "execution_count": 13,
   "metadata": {},
   "outputs": [
    {
     "data": {
      "text/html": [
       "<div>\n",
       "<style scoped>\n",
       "    .dataframe tbody tr th:only-of-type {\n",
       "        vertical-align: middle;\n",
       "    }\n",
       "\n",
       "    .dataframe tbody tr th {\n",
       "        vertical-align: top;\n",
       "    }\n",
       "\n",
       "    .dataframe thead th {\n",
       "        text-align: right;\n",
       "    }\n",
       "</style>\n",
       "<table border=\"1\" class=\"dataframe\">\n",
       "  <thead>\n",
       "    <tr style=\"text-align: right;\">\n",
       "      <th></th>\n",
       "      <th>Ateco</th>\n",
       "      <th>Importo</th>\n",
       "      <th>Conto</th>\n",
       "      <th>ContoStd</th>\n",
       "      <th>%RIT1</th>\n",
       "      <th>%RIT2</th>\n",
       "      <th>CoDitta</th>\n",
       "      <th>TIva</th>\n",
       "      <th>Caus</th>\n",
       "    </tr>\n",
       "  </thead>\n",
       "  <tbody>\n",
       "    <tr>\n",
       "      <th>count</th>\n",
       "      <td>1.329690e+05</td>\n",
       "      <td>1.329690e+05</td>\n",
       "      <td>1.329690e+05</td>\n",
       "      <td>1.329690e+05</td>\n",
       "      <td>1.329690e+05</td>\n",
       "      <td>1.329690e+05</td>\n",
       "      <td>1.329690e+05</td>\n",
       "      <td>1.329690e+05</td>\n",
       "      <td>1.329690e+05</td>\n",
       "    </tr>\n",
       "    <tr>\n",
       "      <th>mean</th>\n",
       "      <td>6.946774e-17</td>\n",
       "      <td>6.412407e-19</td>\n",
       "      <td>2.496564e-16</td>\n",
       "      <td>-2.564963e-16</td>\n",
       "      <td>2.992456e-17</td>\n",
       "      <td>-2.618399e-18</td>\n",
       "      <td>-1.196983e-17</td>\n",
       "      <td>1.709975e-16</td>\n",
       "      <td>4.445935e-17</td>\n",
       "    </tr>\n",
       "    <tr>\n",
       "      <th>std</th>\n",
       "      <td>1.000004e+00</td>\n",
       "      <td>1.000004e+00</td>\n",
       "      <td>1.000004e+00</td>\n",
       "      <td>1.000004e+00</td>\n",
       "      <td>1.000004e+00</td>\n",
       "      <td>1.000004e+00</td>\n",
       "      <td>1.000004e+00</td>\n",
       "      <td>1.000004e+00</td>\n",
       "      <td>1.000004e+00</td>\n",
       "    </tr>\n",
       "    <tr>\n",
       "      <th>min</th>\n",
       "      <td>-2.497476e+00</td>\n",
       "      <td>-2.567495e+01</td>\n",
       "      <td>-3.972653e+00</td>\n",
       "      <td>-3.972569e+00</td>\n",
       "      <td>-1.144720e-01</td>\n",
       "      <td>-1.163046e-02</td>\n",
       "      <td>-4.607301e-01</td>\n",
       "      <td>-9.118480e-01</td>\n",
       "      <td>-2.835487e-01</td>\n",
       "    </tr>\n",
       "    <tr>\n",
       "      <th>25%</th>\n",
       "      <td>-2.191410e-01</td>\n",
       "      <td>-4.568546e-02</td>\n",
       "      <td>1.165766e-02</td>\n",
       "      <td>1.174341e-02</td>\n",
       "      <td>-1.144720e-01</td>\n",
       "      <td>-1.163046e-02</td>\n",
       "      <td>-4.339770e-01</td>\n",
       "      <td>-9.118480e-01</td>\n",
       "      <td>-2.835487e-01</td>\n",
       "    </tr>\n",
       "    <tr>\n",
       "      <th>50%</th>\n",
       "      <td>3.305280e-05</td>\n",
       "      <td>-4.421101e-02</td>\n",
       "      <td>1.504200e-02</td>\n",
       "      <td>1.512776e-02</td>\n",
       "      <td>-1.144720e-01</td>\n",
       "      <td>-1.163046e-02</td>\n",
       "      <td>-3.749357e-01</td>\n",
       "      <td>-9.118480e-01</td>\n",
       "      <td>-2.835487e-01</td>\n",
       "    </tr>\n",
       "    <tr>\n",
       "      <th>75%</th>\n",
       "      <td>3.526412e-02</td>\n",
       "      <td>-3.448077e-02</td>\n",
       "      <td>5.802618e-01</td>\n",
       "      <td>5.803409e-01</td>\n",
       "      <td>-1.144720e-01</td>\n",
       "      <td>-1.163046e-02</td>\n",
       "      <td>-1.853579e-01</td>\n",
       "      <td>1.061656e+00</td>\n",
       "      <td>6.635838e-02</td>\n",
       "    </tr>\n",
       "    <tr>\n",
       "      <th>max</th>\n",
       "      <td>2.642682e+00</td>\n",
       "      <td>2.229325e+02</td>\n",
       "      <td>2.920170e+00</td>\n",
       "      <td>2.584652e+00</td>\n",
       "      <td>4.319077e+01</td>\n",
       "      <td>9.163894e+01</td>\n",
       "      <td>3.833599e+00</td>\n",
       "      <td>1.349473e+01</td>\n",
       "      <td>1.171827e+01</td>\n",
       "    </tr>\n",
       "  </tbody>\n",
       "</table>\n",
       "</div>"
      ],
      "text/plain": [
       "              Ateco       Importo         Conto      ContoStd         %RIT1  \\\n",
       "count  1.329690e+05  1.329690e+05  1.329690e+05  1.329690e+05  1.329690e+05   \n",
       "mean   6.946774e-17  6.412407e-19  2.496564e-16 -2.564963e-16  2.992456e-17   \n",
       "std    1.000004e+00  1.000004e+00  1.000004e+00  1.000004e+00  1.000004e+00   \n",
       "min   -2.497476e+00 -2.567495e+01 -3.972653e+00 -3.972569e+00 -1.144720e-01   \n",
       "25%   -2.191410e-01 -4.568546e-02  1.165766e-02  1.174341e-02 -1.144720e-01   \n",
       "50%    3.305280e-05 -4.421101e-02  1.504200e-02  1.512776e-02 -1.144720e-01   \n",
       "75%    3.526412e-02 -3.448077e-02  5.802618e-01  5.803409e-01 -1.144720e-01   \n",
       "max    2.642682e+00  2.229325e+02  2.920170e+00  2.584652e+00  4.319077e+01   \n",
       "\n",
       "              %RIT2       CoDitta          TIva          Caus  \n",
       "count  1.329690e+05  1.329690e+05  1.329690e+05  1.329690e+05  \n",
       "mean  -2.618399e-18 -1.196983e-17  1.709975e-16  4.445935e-17  \n",
       "std    1.000004e+00  1.000004e+00  1.000004e+00  1.000004e+00  \n",
       "min   -1.163046e-02 -4.607301e-01 -9.118480e-01 -2.835487e-01  \n",
       "25%   -1.163046e-02 -4.339770e-01 -9.118480e-01 -2.835487e-01  \n",
       "50%   -1.163046e-02 -3.749357e-01 -9.118480e-01 -2.835487e-01  \n",
       "75%   -1.163046e-02 -1.853579e-01  1.061656e+00  6.635838e-02  \n",
       "max    9.163894e+01  3.833599e+00  1.349473e+01  1.171827e+01  "
      ]
     },
     "execution_count": 13,
     "metadata": {},
     "output_type": "execute_result"
    }
   ],
   "source": [
    "# Standardize input features to have a standard deviation of 1\n",
    "numeric_features = ['Ateco', 'Importo', 'Conto', 'ContoStd', '%RIT1', '%RIT2', 'CoDitta', 'TIva', 'Caus']\n",
    "scaler = StandardScaler()\n",
    "scaled_X = scaler.fit_transform(X[numeric_features])\n",
    "encoded_df_num = pd.DataFrame(scaled_X, columns=scaler.get_feature_names_out(numeric_features))\n",
    "encoded_df_num.describe()"
   ]
  },
  {
   "cell_type": "markdown",
   "metadata": {},
   "source": [
    "# Split data"
   ]
  },
  {
   "cell_type": "code",
   "execution_count": 14,
   "metadata": {},
   "outputs": [],
   "source": [
    "encoded_df_y = encoded_df_target\n",
    "total_encoded_df_X = pd.concat([encoded_df_cat, encoded_df_num], axis=1)\n",
    "X_train, X_test, y_train, y_test = train_test_split(total_encoded_df_X, encoded_df_y, test_size=0.2, random_state=42)"
   ]
  },
  {
   "cell_type": "code",
   "execution_count": 15,
   "metadata": {},
   "outputs": [
    {
     "data": {
      "text/html": [
       "<div>\n",
       "<style scoped>\n",
       "    .dataframe tbody tr th:only-of-type {\n",
       "        vertical-align: middle;\n",
       "    }\n",
       "\n",
       "    .dataframe tbody tr th {\n",
       "        vertical-align: top;\n",
       "    }\n",
       "\n",
       "    .dataframe thead th {\n",
       "        text-align: right;\n",
       "    }\n",
       "</style>\n",
       "<table border=\"1\" class=\"dataframe\">\n",
       "  <thead>\n",
       "    <tr style=\"text-align: right;\">\n",
       "      <th></th>\n",
       "      <th>A_2</th>\n",
       "      <th>A_3</th>\n",
       "      <th>A_4</th>\n",
       "      <th>A_5</th>\n",
       "      <th>A_6</th>\n",
       "      <th>A_7</th>\n",
       "      <th>A_A</th>\n",
       "      <th>A_E</th>\n",
       "      <th>A_G</th>\n",
       "      <th>A_N</th>\n",
       "      <th>...</th>\n",
       "      <th>TM_8</th>\n",
       "      <th>Ateco</th>\n",
       "      <th>Importo</th>\n",
       "      <th>Conto</th>\n",
       "      <th>ContoStd</th>\n",
       "      <th>%RIT1</th>\n",
       "      <th>%RIT2</th>\n",
       "      <th>CoDitta</th>\n",
       "      <th>TIva</th>\n",
       "      <th>Caus</th>\n",
       "    </tr>\n",
       "  </thead>\n",
       "  <tbody>\n",
       "    <tr>\n",
       "      <th>1196</th>\n",
       "      <td>0.0</td>\n",
       "      <td>0.0</td>\n",
       "      <td>0.0</td>\n",
       "      <td>0.0</td>\n",
       "      <td>0.0</td>\n",
       "      <td>1.0</td>\n",
       "      <td>0.0</td>\n",
       "      <td>0.0</td>\n",
       "      <td>0.0</td>\n",
       "      <td>0.0</td>\n",
       "      <td>...</td>\n",
       "      <td>0.0</td>\n",
       "      <td>0.019624</td>\n",
       "      <td>-0.045013</td>\n",
       "      <td>0.580605</td>\n",
       "      <td>0.580341</td>\n",
       "      <td>-0.114472</td>\n",
       "      <td>-0.01163</td>\n",
       "      <td>-0.215340</td>\n",
       "      <td>1.061656</td>\n",
       "      <td>0.066358</td>\n",
       "    </tr>\n",
       "    <tr>\n",
       "      <th>118309</th>\n",
       "      <td>0.0</td>\n",
       "      <td>0.0</td>\n",
       "      <td>0.0</td>\n",
       "      <td>0.0</td>\n",
       "      <td>0.0</td>\n",
       "      <td>1.0</td>\n",
       "      <td>0.0</td>\n",
       "      <td>0.0</td>\n",
       "      <td>0.0</td>\n",
       "      <td>0.0</td>\n",
       "      <td>...</td>\n",
       "      <td>0.0</td>\n",
       "      <td>0.018974</td>\n",
       "      <td>-0.029226</td>\n",
       "      <td>0.011658</td>\n",
       "      <td>0.011743</td>\n",
       "      <td>-0.114472</td>\n",
       "      <td>-0.01163</td>\n",
       "      <td>-0.374936</td>\n",
       "      <td>-0.911848</td>\n",
       "      <td>-0.283549</td>\n",
       "    </tr>\n",
       "    <tr>\n",
       "      <th>27986</th>\n",
       "      <td>0.0</td>\n",
       "      <td>0.0</td>\n",
       "      <td>0.0</td>\n",
       "      <td>0.0</td>\n",
       "      <td>0.0</td>\n",
       "      <td>1.0</td>\n",
       "      <td>0.0</td>\n",
       "      <td>0.0</td>\n",
       "      <td>0.0</td>\n",
       "      <td>0.0</td>\n",
       "      <td>...</td>\n",
       "      <td>0.0</td>\n",
       "      <td>0.489263</td>\n",
       "      <td>-0.061851</td>\n",
       "      <td>-2.738204</td>\n",
       "      <td>-2.738119</td>\n",
       "      <td>-0.114472</td>\n",
       "      <td>-0.01163</td>\n",
       "      <td>0.642604</td>\n",
       "      <td>1.061656</td>\n",
       "      <td>0.066358</td>\n",
       "    </tr>\n",
       "    <tr>\n",
       "      <th>129661</th>\n",
       "      <td>0.0</td>\n",
       "      <td>0.0</td>\n",
       "      <td>0.0</td>\n",
       "      <td>0.0</td>\n",
       "      <td>0.0</td>\n",
       "      <td>1.0</td>\n",
       "      <td>0.0</td>\n",
       "      <td>0.0</td>\n",
       "      <td>0.0</td>\n",
       "      <td>0.0</td>\n",
       "      <td>...</td>\n",
       "      <td>0.0</td>\n",
       "      <td>-0.051325</td>\n",
       "      <td>0.017624</td>\n",
       "      <td>0.580255</td>\n",
       "      <td>0.580341</td>\n",
       "      <td>-0.114472</td>\n",
       "      <td>-0.01163</td>\n",
       "      <td>-0.442741</td>\n",
       "      <td>1.061656</td>\n",
       "      <td>0.066358</td>\n",
       "    </tr>\n",
       "    <tr>\n",
       "      <th>61940</th>\n",
       "      <td>0.0</td>\n",
       "      <td>0.0</td>\n",
       "      <td>0.0</td>\n",
       "      <td>0.0</td>\n",
       "      <td>0.0</td>\n",
       "      <td>1.0</td>\n",
       "      <td>0.0</td>\n",
       "      <td>0.0</td>\n",
       "      <td>0.0</td>\n",
       "      <td>0.0</td>\n",
       "      <td>...</td>\n",
       "      <td>0.0</td>\n",
       "      <td>0.017946</td>\n",
       "      <td>-0.044726</td>\n",
       "      <td>0.580599</td>\n",
       "      <td>0.580341</td>\n",
       "      <td>-0.114472</td>\n",
       "      <td>-0.01163</td>\n",
       "      <td>-0.459346</td>\n",
       "      <td>1.061656</td>\n",
       "      <td>0.066358</td>\n",
       "    </tr>\n",
       "    <tr>\n",
       "      <th>...</th>\n",
       "      <td>...</td>\n",
       "      <td>...</td>\n",
       "      <td>...</td>\n",
       "      <td>...</td>\n",
       "      <td>...</td>\n",
       "      <td>...</td>\n",
       "      <td>...</td>\n",
       "      <td>...</td>\n",
       "      <td>...</td>\n",
       "      <td>...</td>\n",
       "      <td>...</td>\n",
       "      <td>...</td>\n",
       "      <td>...</td>\n",
       "      <td>...</td>\n",
       "      <td>...</td>\n",
       "      <td>...</td>\n",
       "      <td>...</td>\n",
       "      <td>...</td>\n",
       "      <td>...</td>\n",
       "      <td>...</td>\n",
       "      <td>...</td>\n",
       "    </tr>\n",
       "    <tr>\n",
       "      <th>110268</th>\n",
       "      <td>0.0</td>\n",
       "      <td>0.0</td>\n",
       "      <td>0.0</td>\n",
       "      <td>0.0</td>\n",
       "      <td>0.0</td>\n",
       "      <td>1.0</td>\n",
       "      <td>0.0</td>\n",
       "      <td>0.0</td>\n",
       "      <td>0.0</td>\n",
       "      <td>0.0</td>\n",
       "      <td>...</td>\n",
       "      <td>0.0</td>\n",
       "      <td>-0.003647</td>\n",
       "      <td>-0.028218</td>\n",
       "      <td>0.580255</td>\n",
       "      <td>0.580341</td>\n",
       "      <td>-0.114472</td>\n",
       "      <td>-0.01163</td>\n",
       "      <td>-0.454734</td>\n",
       "      <td>1.061656</td>\n",
       "      <td>0.066358</td>\n",
       "    </tr>\n",
       "    <tr>\n",
       "      <th>119879</th>\n",
       "      <td>0.0</td>\n",
       "      <td>0.0</td>\n",
       "      <td>0.0</td>\n",
       "      <td>0.0</td>\n",
       "      <td>0.0</td>\n",
       "      <td>1.0</td>\n",
       "      <td>0.0</td>\n",
       "      <td>0.0</td>\n",
       "      <td>0.0</td>\n",
       "      <td>0.0</td>\n",
       "      <td>...</td>\n",
       "      <td>0.0</td>\n",
       "      <td>0.018974</td>\n",
       "      <td>-0.045891</td>\n",
       "      <td>0.011658</td>\n",
       "      <td>0.011743</td>\n",
       "      <td>-0.114472</td>\n",
       "      <td>-0.01163</td>\n",
       "      <td>-0.374936</td>\n",
       "      <td>-0.911848</td>\n",
       "      <td>-0.283549</td>\n",
       "    </tr>\n",
       "    <tr>\n",
       "      <th>103694</th>\n",
       "      <td>0.0</td>\n",
       "      <td>0.0</td>\n",
       "      <td>0.0</td>\n",
       "      <td>0.0</td>\n",
       "      <td>0.0</td>\n",
       "      <td>0.0</td>\n",
       "      <td>0.0</td>\n",
       "      <td>0.0</td>\n",
       "      <td>0.0</td>\n",
       "      <td>0.0</td>\n",
       "      <td>...</td>\n",
       "      <td>1.0</td>\n",
       "      <td>1.291460</td>\n",
       "      <td>0.001140</td>\n",
       "      <td>0.705351</td>\n",
       "      <td>0.705437</td>\n",
       "      <td>-0.114472</td>\n",
       "      <td>-0.01163</td>\n",
       "      <td>-0.457040</td>\n",
       "      <td>1.061656</td>\n",
       "      <td>0.066358</td>\n",
       "    </tr>\n",
       "    <tr>\n",
       "      <th>131932</th>\n",
       "      <td>0.0</td>\n",
       "      <td>0.0</td>\n",
       "      <td>0.0</td>\n",
       "      <td>0.0</td>\n",
       "      <td>0.0</td>\n",
       "      <td>0.0</td>\n",
       "      <td>0.0</td>\n",
       "      <td>0.0</td>\n",
       "      <td>0.0</td>\n",
       "      <td>0.0</td>\n",
       "      <td>...</td>\n",
       "      <td>0.0</td>\n",
       "      <td>2.109026</td>\n",
       "      <td>-0.045602</td>\n",
       "      <td>0.587534</td>\n",
       "      <td>0.587335</td>\n",
       "      <td>-0.114472</td>\n",
       "      <td>-0.01163</td>\n",
       "      <td>-0.431671</td>\n",
       "      <td>1.061656</td>\n",
       "      <td>0.066358</td>\n",
       "    </tr>\n",
       "    <tr>\n",
       "      <th>121958</th>\n",
       "      <td>0.0</td>\n",
       "      <td>0.0</td>\n",
       "      <td>0.0</td>\n",
       "      <td>0.0</td>\n",
       "      <td>0.0</td>\n",
       "      <td>1.0</td>\n",
       "      <td>0.0</td>\n",
       "      <td>0.0</td>\n",
       "      <td>0.0</td>\n",
       "      <td>0.0</td>\n",
       "      <td>...</td>\n",
       "      <td>0.0</td>\n",
       "      <td>0.018974</td>\n",
       "      <td>-0.045351</td>\n",
       "      <td>-2.970530</td>\n",
       "      <td>-2.970446</td>\n",
       "      <td>-0.114472</td>\n",
       "      <td>-0.01163</td>\n",
       "      <td>-0.374936</td>\n",
       "      <td>-0.911848</td>\n",
       "      <td>-0.283549</td>\n",
       "    </tr>\n",
       "  </tbody>\n",
       "</table>\n",
       "<p>106375 rows × 66 columns</p>\n",
       "</div>"
      ],
      "text/plain": [
       "        A_2  A_3  A_4  A_5  A_6  A_7  A_A  A_E  A_G  A_N  ...  TM_8     Ateco  \\\n",
       "1196    0.0  0.0  0.0  0.0  0.0  1.0  0.0  0.0  0.0  0.0  ...   0.0  0.019624   \n",
       "118309  0.0  0.0  0.0  0.0  0.0  1.0  0.0  0.0  0.0  0.0  ...   0.0  0.018974   \n",
       "27986   0.0  0.0  0.0  0.0  0.0  1.0  0.0  0.0  0.0  0.0  ...   0.0  0.489263   \n",
       "129661  0.0  0.0  0.0  0.0  0.0  1.0  0.0  0.0  0.0  0.0  ...   0.0 -0.051325   \n",
       "61940   0.0  0.0  0.0  0.0  0.0  1.0  0.0  0.0  0.0  0.0  ...   0.0  0.017946   \n",
       "...     ...  ...  ...  ...  ...  ...  ...  ...  ...  ...  ...   ...       ...   \n",
       "110268  0.0  0.0  0.0  0.0  0.0  1.0  0.0  0.0  0.0  0.0  ...   0.0 -0.003647   \n",
       "119879  0.0  0.0  0.0  0.0  0.0  1.0  0.0  0.0  0.0  0.0  ...   0.0  0.018974   \n",
       "103694  0.0  0.0  0.0  0.0  0.0  0.0  0.0  0.0  0.0  0.0  ...   1.0  1.291460   \n",
       "131932  0.0  0.0  0.0  0.0  0.0  0.0  0.0  0.0  0.0  0.0  ...   0.0  2.109026   \n",
       "121958  0.0  0.0  0.0  0.0  0.0  1.0  0.0  0.0  0.0  0.0  ...   0.0  0.018974   \n",
       "\n",
       "         Importo     Conto  ContoStd     %RIT1    %RIT2   CoDitta      TIva  \\\n",
       "1196   -0.045013  0.580605  0.580341 -0.114472 -0.01163 -0.215340  1.061656   \n",
       "118309 -0.029226  0.011658  0.011743 -0.114472 -0.01163 -0.374936 -0.911848   \n",
       "27986  -0.061851 -2.738204 -2.738119 -0.114472 -0.01163  0.642604  1.061656   \n",
       "129661  0.017624  0.580255  0.580341 -0.114472 -0.01163 -0.442741  1.061656   \n",
       "61940  -0.044726  0.580599  0.580341 -0.114472 -0.01163 -0.459346  1.061656   \n",
       "...          ...       ...       ...       ...      ...       ...       ...   \n",
       "110268 -0.028218  0.580255  0.580341 -0.114472 -0.01163 -0.454734  1.061656   \n",
       "119879 -0.045891  0.011658  0.011743 -0.114472 -0.01163 -0.374936 -0.911848   \n",
       "103694  0.001140  0.705351  0.705437 -0.114472 -0.01163 -0.457040  1.061656   \n",
       "131932 -0.045602  0.587534  0.587335 -0.114472 -0.01163 -0.431671  1.061656   \n",
       "121958 -0.045351 -2.970530 -2.970446 -0.114472 -0.01163 -0.374936 -0.911848   \n",
       "\n",
       "            Caus  \n",
       "1196    0.066358  \n",
       "118309 -0.283549  \n",
       "27986   0.066358  \n",
       "129661  0.066358  \n",
       "61940   0.066358  \n",
       "...          ...  \n",
       "110268  0.066358  \n",
       "119879 -0.283549  \n",
       "103694  0.066358  \n",
       "131932  0.066358  \n",
       "121958 -0.283549  \n",
       "\n",
       "[106375 rows x 66 columns]"
      ]
     },
     "execution_count": 15,
     "metadata": {},
     "output_type": "execute_result"
    }
   ],
   "source": [
    "X_train"
   ]
  },
  {
   "cell_type": "markdown",
   "metadata": {},
   "source": [
    "# Train and evaluate models"
   ]
  },
  {
   "cell_type": "code",
   "execution_count": 16,
   "metadata": {},
   "outputs": [],
   "source": [
    "def plot_feature_importance(model):\n",
    "    # importances = self.model.feature_importances_ if 'feature_importances_' in self.model else self.model.coef_[0]\n",
    "    importances = model.feature_importances_\n",
    "\n",
    "    # Assuming the model is already trained and feature_importances obtained\n",
    "    # Create a DataFrame for feature importances\n",
    "    importances_df = pd.DataFrame(\n",
    "        {\n",
    "            \"Features\": X_train.columns,\n",
    "            \"Importances\": importances,\n",
    "        }\n",
    "    )\n",
    "\n",
    "    # Sort the DataFrame by importances\n",
    "    importances_df = importances_df.sort_values(by=\"Importances\", ascending=False)\n",
    "\n",
    "    # Create the bar plot\n",
    "    fig = px.bar(\n",
    "        importances_df,\n",
    "        x=\"Importances\",\n",
    "        y=\"Features\",\n",
    "        orientation=\"h\",\n",
    "        title=\"Feature Importances in Random Forest\",\n",
    "    )\n",
    "    fig.show()\n",
    "    return importances_df\n",
    "\n",
    "\n",
    "def plot_decision_tree(model):\n",
    "    dot_data = export_graphviz(\n",
    "        model,\n",
    "        out_file=None,\n",
    "        feature_names=X_train.columns,\n",
    "        class_names=[\"1\", \"0\"],\n",
    "        proportion=True,\n",
    "        filled=True,\n",
    "        rounded=True,\n",
    "        special_characters=True,\n",
    "    )\n",
    "    modified_dot_data = re.sub(r'<br/>value = \\[\\[.*?\\]\\]>', '>', dot_data)\n",
    "    graph = graphviz.Source(modified_dot_data)\n",
    "    graph.render(\n",
    "        \"../assets/decision_tree_vis/decision_tree\"\n",
    "    )"
   ]
  },
  {
   "cell_type": "code",
   "execution_count": 17,
   "metadata": {},
   "outputs": [
    {
     "name": "stderr",
     "output_type": "stream",
     "text": [
      "[Parallel(n_jobs=-1)]: Using backend ThreadingBackend with 12 concurrent workers.\n"
     ]
    },
    {
     "name": "stdout",
     "output_type": "stream",
     "text": [
      "building tree 1 of 100building tree 2 of 100\n",
      "building tree 3 of 100\n",
      "\n",
      "building tree 4 of 100\n",
      "building tree 5 of 100\n",
      "building tree 6 of 100\n",
      "building tree 7 of 100\n",
      "building tree 8 of 100\n",
      "building tree 9 of 100\n",
      "building tree 10 of 100\n",
      "building tree 11 of 100\n",
      "building tree 12 of 100\n",
      "building tree 13 of 100building tree 14 of 100\n",
      "building tree 15 of 100\n",
      "building tree 16 of 100\n",
      "\n",
      "building tree 17 of 100\n",
      "building tree 18 of 100\n",
      "building tree 19 of 100\n",
      "building tree 20 of 100\n",
      "building tree 21 of 100\n",
      "building tree 22 of 100\n",
      "building tree 23 of 100\n",
      "building tree 24 of 100\n",
      "building tree 25 of 100\n",
      "building tree 26 of 100\n",
      "building tree 27 of 100\n",
      "building tree 28 of 100\n",
      "building tree 29 of 100\n",
      "building tree 30 of 100\n"
     ]
    },
    {
     "name": "stderr",
     "output_type": "stream",
     "text": [
      "[Parallel(n_jobs=-1)]: Done  17 tasks      | elapsed:   10.2s\n"
     ]
    },
    {
     "name": "stdout",
     "output_type": "stream",
     "text": [
      "building tree 31 of 100\n",
      "building tree 32 of 100\n",
      "building tree 33 of 100\n",
      "building tree 34 of 100\n",
      "building tree 35 of 100\n",
      "building tree 36 of 100\n",
      "building tree 37 of 100\n",
      "building tree 38 of 100\n",
      "building tree 39 of 100building tree 40 of 100\n",
      "\n",
      "building tree 41 of 100\n",
      "building tree 42 of 100\n",
      "building tree 43 of 100\n",
      "building tree 44 of 100\n",
      "building tree 45 of 100\n",
      "building tree 46 of 100\n",
      "building tree 47 of 100\n",
      "building tree 48 of 100\n",
      "building tree 49 of 100\n",
      "building tree 50 of 100\n",
      "building tree 51 of 100\n",
      "building tree 52 of 100\n",
      "building tree 53 of 100\n",
      "building tree 54 of 100\n",
      "building tree 55 of 100\n",
      "building tree 56 of 100\n",
      "building tree 57 of 100\n",
      "building tree 58 of 100\n",
      "building tree 59 of 100\n",
      "building tree 60 of 100\n",
      "building tree 61 of 100\n",
      "building tree 62 of 100\n",
      "building tree 63 of 100\n",
      "building tree 64 of 100\n",
      "building tree 65 of 100\n",
      "building tree 66 of 100\n",
      "building tree 67 of 100\n",
      "building tree 68 of 100\n",
      "building tree 69 of 100\n",
      "building tree 70 of 100\n",
      "building tree 71 of 100\n",
      "building tree 72 of 100\n",
      "building tree 73 of 100\n",
      "building tree 74 of 100\n",
      "building tree 75 of 100\n",
      "building tree 76 of 100\n",
      "building tree 77 of 100\n",
      "building tree 78 of 100\n",
      "building tree 79 of 100building tree 80 of 100\n",
      "building tree 81 of 100\n",
      "\n",
      "building tree 82 of 100\n",
      "building tree 83 of 100\n",
      "building tree 84 of 100\n",
      "building tree 85 of 100\n",
      "building tree 86 of 100\n",
      "building tree 87 of 100\n",
      "building tree 88 of 100\n",
      "building tree 89 of 100\n",
      "building tree 90 of 100\n",
      "building tree 91 of 100\n",
      "building tree 92 of 100\n",
      "building tree 93 of 100\n",
      "building tree 94 of 100\n",
      "building tree 95 of 100\n",
      "building tree 96 of 100\n",
      "building tree 97 of 100\n",
      "building tree 98 of 100\n",
      "building tree 99 of 100\n",
      "building tree 100 of 100\n"
     ]
    },
    {
     "name": "stderr",
     "output_type": "stream",
     "text": [
      "[Parallel(n_jobs=-1)]: Done 100 out of 100 | elapsed:   43.4s finished\n",
      "[Parallel(n_jobs=12)]: Using backend ThreadingBackend with 12 concurrent workers.\n",
      "[Parallel(n_jobs=12)]: Done  17 tasks      | elapsed:    0.4s\n",
      "[Parallel(n_jobs=12)]: Done 100 out of 100 | elapsed:    2.4s finished\n"
     ]
    },
    {
     "data": {
      "text/plain": [
       "0.9735654658945627"
      ]
     },
     "execution_count": 17,
     "metadata": {},
     "output_type": "execute_result"
    }
   ],
   "source": [
    "model_rf = RandomForestClassifier(verbose=2, n_jobs=-1, random_state=42)\n",
    "model_rf.fit(X_train, y_train)\n",
    "\n",
    "# Making predictions on the test set\n",
    "test_predictions = model_rf.predict(X_test)\n",
    "accuracy = accuracy_score(y_test, test_predictions)\n",
    "accuracy"
   ]
  },
  {
   "cell_type": "code",
   "execution_count": 18,
   "metadata": {},
   "outputs": [
    {
     "name": "stderr",
     "output_type": "stream",
     "text": [
      "[Parallel(n_jobs=12)]: Using backend ThreadingBackend with 12 concurrent workers.\n"
     ]
    },
    {
     "name": "stderr",
     "output_type": "stream",
     "text": [
      "[Parallel(n_jobs=12)]: Done  17 tasks      | elapsed:    0.4s\n",
      "[Parallel(n_jobs=12)]: Done 100 out of 100 | elapsed:    3.4s finished\n"
     ]
    },
    {
     "data": {
      "image/png": "[encoded data removed]",
      "text/plain": [
       "<Figure size 2000x1000 with 2 Axes>"
      ]
     },
     "metadata": {},
     "output_type": "display_data"
    }
   ],
   "source": [
    "test_predictions = model_rf.predict(X_test)\n",
    "\n",
    "y_pred2 = np.argmax(test_predictions, axis=1)\n",
    "y_test2 = np.argmax(y_test.values, axis=1)\n",
    "\n",
    "conf_matrix = confusion_matrix(y_test2, y_pred2)\n",
    "\n",
    "# Plotting the confusion matrix\n",
    "plt.figure(figsize=(25, 10))\n",
    "sns.heatmap(conf_matrix, annot=True, fmt='d', cmap='Blues')\n",
    "plt.title('Confusion Matrix')\n",
    "plt.ylabel('True Label')\n",
    "plt.xlabel('Predicted Label')\n",
    "plt.show()"
   ]
  },
  {
   "cell_type": "code",
   "execution_count": 19,
   "metadata": {},
   "outputs": [
    {
     "data": {
      "application/vnd.plotly.v1+json": {
       "config": {
        "plotlyServerURL": "https://plot.ly"
       },
       "data": [
        {
         "alignmentgroup": "True",
         "hovertemplate": "Importances=%{x}<br>Features=%{y}<extra></extra>",
         "legendgroup": "",
         "marker": {
          "color": "#636efa",
          "pattern": {
           "shape": ""
          }
         },
         "name": "",
         "offsetgroup": "",
         "orientation": "h",
         "showlegend": false,
         "textposition": "auto",
         "type": "bar",
         "x": [
          0.1386256263019398,
          0.09850172663640128,
          0.08815643194018191,
          0.08140327127266518,
          0.0809969128490208,
          0.06472929841235102,
          0.05872949909919386,
          0.04306923761696735,
          0.041421210496198305,
          0.04074301236134895,
          0.03891962698366848,
          0.03701863588884434,
          0.02423776369224972,
          0.020982752591499947,
          0.0181516759290981,
          0.011217754261096781,
          0.01117797867180654,
          0.01103890763478162,
          0.010924979680494851,
          0.010088202441175819,
          0.009569145176759426,
          0.008521661505115014,
          0.007253414250376298,
          0.007118617433300673,
          0.005181877053824291,
          0.004455879339693765,
          0.0035517650915886903,
          0.003359058206936215,
          0.0028348022858998368,
          0.002767542610951895,
          0.002239914782959074,
          0.002067266824305261,
          0.0013220810625666519,
          0.0010183715578216028,
          0.0010020044533092807,
          0.000987174335882921,
          0.0009234852077285421,
          0.0008605282260878225,
          0.0006829318189442241,
          0.000547529341949993,
          0.0005284175291327742,
          0.0004139470709130814,
          0.00032454010546463573,
          0.00032408576111289704,
          0.0002257473325997963,
          0.00020716373644956524,
          0.00016098305626062066,
          0.0001580387463625411,
          0.00015112187067784562,
          0.00015106580718656483,
          0.0001478063808841534,
          0.0001445666796809372,
          0.00012635643427179476,
          0.00012412201458135685,
          0.00012269675975464943,
          0.00007854437318813741,
          0.00006837603515368661,
          0.00004600731910054096,
          0.000025457896148182307,
          0.000021139651860740576,
          0.000018724753828453563,
          0.000014829114820701422,
          0.000014113138295333352,
          0.0000022856017035972418,
          3.0750358135847984e-7,
          0
         ],
         "xaxis": "x",
         "y": [
          "Ateco",
          "Iva_N3.5",
          "Conto",
          "CoDitta",
          "ContoStd",
          "Importo",
          "Iva_N6.7",
          "Caus",
          "Iva_N2.2",
          "Iva_N2",
          "TIva",
          "Iva_N4",
          "Tdoc_TD24",
          "Iva_N3.2",
          "Iva_N3.1",
          "TM_3",
          "Iva_N6.1",
          "A_5",
          "Iva_N2.1",
          "TM_7",
          "A_7",
          "Tdoc_TD04",
          "Iva_N5",
          "Iva_N6.3",
          "TM_4",
          "Iva_N3.4",
          "Iva_N6.5",
          "A_6",
          "TM_8",
          "Iva_N3.3",
          "%RIT1",
          "TM_18",
          "Tdoc_TD06",
          "B_1",
          "Iva_N3",
          "Iva_N6.6",
          "A_2",
          "TM_20",
          "Tdoc_TD02",
          "Iva_N6.9",
          "Iva_N6",
          "A_3",
          "A_4",
          "TM_16",
          "A_O",
          "TM_14",
          "Tdoc_TD05",
          "Iva_N6.2",
          "Iva_N7",
          "Iva_N3.6",
          "TM_15",
          "TM_13",
          "A_A",
          "Tdoc_TD27",
          "A_S",
          "TM_19",
          "Tdoc_TD17",
          "Iva_N6.4",
          "A_E",
          "%RIT2",
          "Iva_N6.8",
          "Tdoc_TD25",
          "Tdoc_TD26",
          "A_G",
          "Tdoc_TD03",
          "A_N"
         ],
         "yaxis": "y"
        }
       ],
       "layout": {
        "barmode": "relative",
        "legend": {
         "tracegroupgap": 0
        },
        "template": {
         "data": {
          "bar": [
           {
            "error_x": {
             "color": "#2a3f5f"
            },
            "error_y": {
             "color": "#2a3f5f"
            },
            "marker": {
             "line": {
              "color": "#E5ECF6",
              "width": 0.5
             },
             "pattern": {
              "fillmode": "overlay",
              "size": 10,
              "solidity": 0.2
             }
            },
            "type": "bar"
           }
          ],
          "barpolar": [
           {
            "marker": {
             "line": {
              "color": "#E5ECF6",
              "width": 0.5
             },
             "pattern": {
              "fillmode": "overlay",
              "size": 10,
              "solidity": 0.2
             }
            },
            "type": "barpolar"
           }
          ],
          "carpet": [
           {
            "aaxis": {
             "endlinecolor": "#2a3f5f",
             "gridcolor": "white",
             "linecolor": "white",
             "minorgridcolor": "white",
             "startlinecolor": "#2a3f5f"
            },
            "baxis": {
             "endlinecolor": "#2a3f5f",
             "gridcolor": "white",
             "linecolor": "white",
             "minorgridcolor": "white",
             "startlinecolor": "#2a3f5f"
            },
            "type": "carpet"
           }
          ],
          "choropleth": [
           {
            "colorbar": {
             "outlinewidth": 0,
             "ticks": ""
            },
            "type": "choropleth"
           }
          ],
          "contour": [
           {
            "colorbar": {
             "outlinewidth": 0,
             "ticks": ""
            },
            "colorscale": [
             [
              0,
              "#0d0887"
             ],
             [
              0.1111111111111111,
              "#46039f"
             ],
             [
              0.2222222222222222,
              "#7201a8"
             ],
             [
              0.3333333333333333,
              "#9c179e"
             ],
             [
              0.4444444444444444,
              "#bd3786"
             ],
             [
              0.5555555555555556,
              "#d8576b"
             ],
             [
              0.6666666666666666,
              "#ed7953"
             ],
             [
              0.7777777777777778,
              "#fb9f3a"
             ],
             [
              0.8888888888888888,
              "#fdca26"
             ],
             [
              1,
              "#f0f921"
             ]
            ],
            "type": "contour"
           }
          ],
          "contourcarpet": [
           {
            "colorbar": {
             "outlinewidth": 0,
             "ticks": ""
            },
            "type": "contourcarpet"
           }
          ],
          "heatmap": [
           {
            "colorbar": {
             "outlinewidth": 0,
             "ticks": ""
            },
            "colorscale": [
             [
              0,
              "#0d0887"
             ],
             [
              0.1111111111111111,
              "#46039f"
             ],
             [
              0.2222222222222222,
              "#7201a8"
             ],
             [
              0.3333333333333333,
              "#9c179e"
             ],
             [
              0.4444444444444444,
              "#bd3786"
             ],
             [
              0.5555555555555556,
              "#d8576b"
             ],
             [
              0.6666666666666666,
              "#ed7953"
             ],
             [
              0.7777777777777778,
              "#fb9f3a"
             ],
             [
              0.8888888888888888,
              "#fdca26"
             ],
             [
              1,
              "#f0f921"
             ]
            ],
            "type": "heatmap"
           }
          ],
          "heatmapgl": [
           {
            "colorbar": {
             "outlinewidth": 0,
             "ticks": ""
            },
            "colorscale": [
             [
              0,
              "#0d0887"
             ],
             [
              0.1111111111111111,
              "#46039f"
             ],
             [
              0.2222222222222222,
              "#7201a8"
             ],
             [
              0.3333333333333333,
              "#9c179e"
             ],
             [
              0.4444444444444444,
              "#bd3786"
             ],
             [
              0.5555555555555556,
              "#d8576b"
             ],
             [
              0.6666666666666666,
              "#ed7953"
             ],
             [
              0.7777777777777778,
              "#fb9f3a"
             ],
             [
              0.8888888888888888,
              "#fdca26"
             ],
             [
              1,
              "#f0f921"
             ]
            ],
            "type": "heatmapgl"
           }
          ],
          "histogram": [
           {
            "marker": {
             "pattern": {
              "fillmode": "overlay",
              "size": 10,
              "solidity": 0.2
             }
            },
            "type": "histogram"
           }
          ],
          "histogram2d": [
           {
            "colorbar": {
             "outlinewidth": 0,
             "ticks": ""
            },
            "colorscale": [
             [
              0,
              "#0d0887"
             ],
             [
              0.1111111111111111,
              "#46039f"
             ],
             [
              0.2222222222222222,
              "#7201a8"
             ],
             [
              0.3333333333333333,
              "#9c179e"
             ],
             [
              0.4444444444444444,
              "#bd3786"
             ],
             [
              0.5555555555555556,
              "#d8576b"
             ],
             [
              0.6666666666666666,
              "#ed7953"
             ],
             [
              0.7777777777777778,
              "#fb9f3a"
             ],
             [
              0.8888888888888888,
              "#fdca26"
             ],
             [
              1,
              "#f0f921"
             ]
            ],
            "type": "histogram2d"
           }
          ],
          "histogram2dcontour": [
           {
            "colorbar": {
             "outlinewidth": 0,
             "ticks": ""
            },
            "colorscale": [
             [
              0,
              "#0d0887"
             ],
             [
              0.1111111111111111,
              "#46039f"
             ],
             [
              0.2222222222222222,
              "#7201a8"
             ],
             [
              0.3333333333333333,
              "#9c179e"
             ],
             [
              0.4444444444444444,
              "#bd3786"
             ],
             [
              0.5555555555555556,
              "#d8576b"
             ],
             [
              0.6666666666666666,
              "#ed7953"
             ],
             [
              0.7777777777777778,
              "#fb9f3a"
             ],
             [
              0.8888888888888888,
              "#fdca26"
             ],
             [
              1,
              "#f0f921"
             ]
            ],
            "type": "histogram2dcontour"
           }
          ],
          "mesh3d": [
           {
            "colorbar": {
             "outlinewidth": 0,
             "ticks": ""
            },
            "type": "mesh3d"
           }
          ],
          "parcoords": [
           {
            "line": {
             "colorbar": {
              "outlinewidth": 0,
              "ticks": ""
             }
            },
            "type": "parcoords"
           }
          ],
          "pie": [
           {
            "automargin": true,
            "type": "pie"
           }
          ],
          "scatter": [
           {
            "fillpattern": {
             "fillmode": "overlay",
             "size": 10,
             "solidity": 0.2
            },
            "type": "scatter"
           }
          ],
          "scatter3d": [
           {
            "line": {
             "colorbar": {
              "outlinewidth": 0,
              "ticks": ""
             }
            },
            "marker": {
             "colorbar": {
              "outlinewidth": 0,
              "ticks": ""
             }
            },
            "type": "scatter3d"
           }
          ],
          "scattercarpet": [
           {
            "marker": {
             "colorbar": {
              "outlinewidth": 0,
              "ticks": ""
             }
            },
            "type": "scattercarpet"
           }
          ],
          "scattergeo": [
           {
            "marker": {
             "colorbar": {
              "outlinewidth": 0,
              "ticks": ""
             }
            },
            "type": "scattergeo"
           }
          ],
          "scattergl": [
           {
            "marker": {
             "colorbar": {
              "outlinewidth": 0,
              "ticks": ""
             }
            },
            "type": "scattergl"
           }
          ],
          "scattermapbox": [
           {
            "marker": {
             "colorbar": {
              "outlinewidth": 0,
              "ticks": ""
             }
            },
            "type": "scattermapbox"
           }
          ],
          "scatterpolar": [
           {
            "marker": {
             "colorbar": {
              "outlinewidth": 0,
              "ticks": ""
             }
            },
            "type": "scatterpolar"
           }
          ],
          "scatterpolargl": [
           {
            "marker": {
             "colorbar": {
              "outlinewidth": 0,
              "ticks": ""
             }
            },
            "type": "scatterpolargl"
           }
          ],
          "scatterternary": [
           {
            "marker": {
             "colorbar": {
              "outlinewidth": 0,
              "ticks": ""
             }
            },
            "type": "scatterternary"
           }
          ],
          "surface": [
           {
            "colorbar": {
             "outlinewidth": 0,
             "ticks": ""
            },
            "colorscale": [
             [
              0,
              "#0d0887"
             ],
             [
              0.1111111111111111,
              "#46039f"
             ],
             [
              0.2222222222222222,
              "#7201a8"
             ],
             [
              0.3333333333333333,
              "#9c179e"
             ],
             [
              0.4444444444444444,
              "#bd3786"
             ],
             [
              0.5555555555555556,
              "#d8576b"
             ],
             [
              0.6666666666666666,
              "#ed7953"
             ],
             [
              0.7777777777777778,
              "#fb9f3a"
             ],
             [
              0.8888888888888888,
              "#fdca26"
             ],
             [
              1,
              "#f0f921"
             ]
            ],
            "type": "surface"
           }
          ],
          "table": [
           {
            "cells": {
             "fill": {
              "color": "#EBF0F8"
             },
             "line": {
              "color": "white"
             }
            },
            "header": {
             "fill": {
              "color": "#C8D4E3"
             },
             "line": {
              "color": "white"
             }
            },
            "type": "table"
           }
          ]
         },
         "layout": {
          "annotationdefaults": {
           "arrowcolor": "#2a3f5f",
           "arrowhead": 0,
           "arrowwidth": 1
          },
          "autotypenumbers": "strict",
          "coloraxis": {
           "colorbar": {
            "outlinewidth": 0,
            "ticks": ""
           }
          },
          "colorscale": {
           "diverging": [
            [
             0,
             "#8e0152"
            ],
            [
             0.1,
             "#c51b7d"
            ],
            [
             0.2,
             "#de77ae"
            ],
            [
             0.3,
             "#f1b6da"
            ],
            [
             0.4,
             "#fde0ef"
            ],
            [
             0.5,
             "#f7f7f7"
            ],
            [
             0.6,
             "#e6f5d0"
            ],
            [
             0.7,
             "#b8e186"
            ],
            [
             0.8,
             "#7fbc41"
            ],
            [
             0.9,
             "#4d9221"
            ],
            [
             1,
             "#276419"
            ]
           ],
           "sequential": [
            [
             0,
             "#0d0887"
            ],
            [
             0.1111111111111111,
             "#46039f"
            ],
            [
             0.2222222222222222,
             "#7201a8"
            ],
            [
             0.3333333333333333,
             "#9c179e"
            ],
            [
             0.4444444444444444,
             "#bd3786"
            ],
            [
             0.5555555555555556,
             "#d8576b"
            ],
            [
             0.6666666666666666,
             "#ed7953"
            ],
            [
             0.7777777777777778,
             "#fb9f3a"
            ],
            [
             0.8888888888888888,
             "#fdca26"
            ],
            [
             1,
             "#f0f921"
            ]
           ],
           "sequentialminus": [
            [
             0,
             "#0d0887"
            ],
            [
             0.1111111111111111,
             "#46039f"
            ],
            [
             0.2222222222222222,
             "#7201a8"
            ],
            [
             0.3333333333333333,
             "#9c179e"
            ],
            [
             0.4444444444444444,
             "#bd3786"
            ],
            [
             0.5555555555555556,
             "#d8576b"
            ],
            [
             0.6666666666666666,
             "#ed7953"
            ],
            [
             0.7777777777777778,
             "#fb9f3a"
            ],
            [
             0.8888888888888888,
             "#fdca26"
            ],
            [
             1,
             "#f0f921"
            ]
           ]
          },
          "colorway": [
           "#636efa",
           "#EF553B",
           "#00cc96",
           "#ab63fa",
           "#FFA15A",
           "#19d3f3",
           "#FF6692",
           "#B6E880",
           "#FF97FF",
           "#FECB52"
          ],
          "font": {
           "color": "#2a3f5f"
          },
          "geo": {
           "bgcolor": "white",
           "lakecolor": "white",
           "landcolor": "#E5ECF6",
           "showlakes": true,
           "showland": true,
           "subunitcolor": "white"
          },
          "hoverlabel": {
           "align": "left"
          },
          "hovermode": "closest",
          "mapbox": {
           "style": "light"
          },
          "paper_bgcolor": "white",
          "plot_bgcolor": "#E5ECF6",
          "polar": {
           "angularaxis": {
            "gridcolor": "white",
            "linecolor": "white",
            "ticks": ""
           },
           "bgcolor": "#E5ECF6",
           "radialaxis": {
            "gridcolor": "white",
            "linecolor": "white",
            "ticks": ""
           }
          },
          "scene": {
           "xaxis": {
            "backgroundcolor": "#E5ECF6",
            "gridcolor": "white",
            "gridwidth": 2,
            "linecolor": "white",
            "showbackground": true,
            "ticks": "",
            "zerolinecolor": "white"
           },
           "yaxis": {
            "backgroundcolor": "#E5ECF6",
            "gridcolor": "white",
            "gridwidth": 2,
            "linecolor": "white",
            "showbackground": true,
            "ticks": "",
            "zerolinecolor": "white"
           },
           "zaxis": {
            "backgroundcolor": "#E5ECF6",
            "gridcolor": "white",
            "gridwidth": 2,
            "linecolor": "white",
            "showbackground": true,
            "ticks": "",
            "zerolinecolor": "white"
           }
          },
          "shapedefaults": {
           "line": {
            "color": "#2a3f5f"
           }
          },
          "ternary": {
           "aaxis": {
            "gridcolor": "white",
            "linecolor": "white",
            "ticks": ""
           },
           "baxis": {
            "gridcolor": "white",
            "linecolor": "white",
            "ticks": ""
           },
           "bgcolor": "#E5ECF6",
           "caxis": {
            "gridcolor": "white",
            "linecolor": "white",
            "ticks": ""
           }
          },
          "title": {
           "x": 0.05
          },
          "xaxis": {
           "automargin": true,
           "gridcolor": "white",
           "linecolor": "white",
           "ticks": "",
           "title": {
            "standoff": 15
           },
           "zerolinecolor": "white",
           "zerolinewidth": 2
          },
          "yaxis": {
           "automargin": true,
           "gridcolor": "white",
           "linecolor": "white",
           "ticks": "",
           "title": {
            "standoff": 15
           },
           "zerolinecolor": "white",
           "zerolinewidth": 2
          }
         }
        },
        "title": {
         "text": "Feature Importances in Random Forest"
        },
        "xaxis": {
         "anchor": "y",
         "domain": [
          0,
          1
         ],
         "title": {
          "text": "Importances"
         }
        },
        "yaxis": {
         "anchor": "x",
         "domain": [
          0,
          1
         ],
         "title": {
          "text": "Features"
         }
        }
       }
      }
     },
     "metadata": {},
     "output_type": "display_data"
    },
    {
     "data": {
      "text/html": [
       "<div>\n",
       "<style scoped>\n",
       "    .dataframe tbody tr th:only-of-type {\n",
       "        vertical-align: middle;\n",
       "    }\n",
       "\n",
       "    .dataframe tbody tr th {\n",
       "        vertical-align: top;\n",
       "    }\n",
       "\n",
       "    .dataframe thead th {\n",
       "        text-align: right;\n",
       "    }\n",
       "</style>\n",
       "<table border=\"1\" class=\"dataframe\">\n",
       "  <thead>\n",
       "    <tr style=\"text-align: right;\">\n",
       "      <th></th>\n",
       "      <th>Features</th>\n",
       "      <th>Importances</th>\n",
       "    </tr>\n",
       "  </thead>\n",
       "  <tbody>\n",
       "    <tr>\n",
       "      <th>57</th>\n",
       "      <td>Ateco</td>\n",
       "      <td>1.386256e-01</td>\n",
       "    </tr>\n",
       "    <tr>\n",
       "      <th>31</th>\n",
       "      <td>Iva_N3.5</td>\n",
       "      <td>9.850173e-02</td>\n",
       "    </tr>\n",
       "    <tr>\n",
       "      <th>59</th>\n",
       "      <td>Conto</td>\n",
       "      <td>8.815643e-02</td>\n",
       "    </tr>\n",
       "    <tr>\n",
       "      <th>63</th>\n",
       "      <td>CoDitta</td>\n",
       "      <td>8.140327e-02</td>\n",
       "    </tr>\n",
       "    <tr>\n",
       "      <th>60</th>\n",
       "      <td>ContoStd</td>\n",
       "      <td>8.099691e-02</td>\n",
       "    </tr>\n",
       "    <tr>\n",
       "      <th>...</th>\n",
       "      <td>...</td>\n",
       "      <td>...</td>\n",
       "    </tr>\n",
       "    <tr>\n",
       "      <th>20</th>\n",
       "      <td>Tdoc_TD25</td>\n",
       "      <td>1.482911e-05</td>\n",
       "    </tr>\n",
       "    <tr>\n",
       "      <th>21</th>\n",
       "      <td>Tdoc_TD26</td>\n",
       "      <td>1.411314e-05</td>\n",
       "    </tr>\n",
       "    <tr>\n",
       "      <th>8</th>\n",
       "      <td>A_G</td>\n",
       "      <td>2.285602e-06</td>\n",
       "    </tr>\n",
       "    <tr>\n",
       "      <th>14</th>\n",
       "      <td>Tdoc_TD03</td>\n",
       "      <td>3.075036e-07</td>\n",
       "    </tr>\n",
       "    <tr>\n",
       "      <th>9</th>\n",
       "      <td>A_N</td>\n",
       "      <td>0.000000e+00</td>\n",
       "    </tr>\n",
       "  </tbody>\n",
       "</table>\n",
       "<p>66 rows × 2 columns</p>\n",
       "</div>"
      ],
      "text/plain": [
       "     Features   Importances\n",
       "57      Ateco  1.386256e-01\n",
       "31   Iva_N3.5  9.850173e-02\n",
       "59      Conto  8.815643e-02\n",
       "63    CoDitta  8.140327e-02\n",
       "60   ContoStd  8.099691e-02\n",
       "..        ...           ...\n",
       "20  Tdoc_TD25  1.482911e-05\n",
       "21  Tdoc_TD26  1.411314e-05\n",
       "8         A_G  2.285602e-06\n",
       "14  Tdoc_TD03  3.075036e-07\n",
       "9         A_N  0.000000e+00\n",
       "\n",
       "[66 rows x 2 columns]"
      ]
     },
     "execution_count": 19,
     "metadata": {},
     "output_type": "execute_result"
    }
   ],
   "source": [
    "importances_numbers = plot_feature_importance(model_rf)\n",
    "importances_numbers"
   ]
  },
  {
   "cell_type": "code",
   "execution_count": 70,
   "metadata": {},
   "outputs": [
    {
     "data": {
      "text/html": [
       "<div>\n",
       "<style scoped>\n",
       "    .dataframe tbody tr th:only-of-type {\n",
       "        vertical-align: middle;\n",
       "    }\n",
       "\n",
       "    .dataframe tbody tr th {\n",
       "        vertical-align: top;\n",
       "    }\n",
       "\n",
       "    .dataframe thead th {\n",
       "        text-align: right;\n",
       "    }\n",
       "</style>\n",
       "<table border=\"1\" class=\"dataframe\">\n",
       "  <thead>\n",
       "    <tr style=\"text-align: right;\">\n",
       "      <th></th>\n",
       "      <th>Importances</th>\n",
       "    </tr>\n",
       "    <tr>\n",
       "      <th>feature_agg</th>\n",
       "      <th></th>\n",
       "    </tr>\n",
       "  </thead>\n",
       "  <tbody>\n",
       "    <tr>\n",
       "      <th>Iva</th>\n",
       "      <td>0.513433</td>\n",
       "    </tr>\n",
       "    <tr>\n",
       "      <th>TIva</th>\n",
       "      <td>0.111246</td>\n",
       "    </tr>\n",
       "    <tr>\n",
       "      <th>CoDitta</th>\n",
       "      <td>0.095645</td>\n",
       "    </tr>\n",
       "    <tr>\n",
       "      <th>Tdoc</th>\n",
       "      <td>0.062872</td>\n",
       "    </tr>\n",
       "    <tr>\n",
       "      <th>Importo</th>\n",
       "      <td>0.044129</td>\n",
       "    </tr>\n",
       "    <tr>\n",
       "      <th>Conto</th>\n",
       "      <td>0.040705</td>\n",
       "    </tr>\n",
       "    <tr>\n",
       "      <th>Ateco</th>\n",
       "      <td>0.035726</td>\n",
       "    </tr>\n",
       "    <tr>\n",
       "      <th>Caus</th>\n",
       "      <td>0.034576</td>\n",
       "    </tr>\n",
       "    <tr>\n",
       "      <th>ContoStd</th>\n",
       "      <td>0.030198</td>\n",
       "    </tr>\n",
       "    <tr>\n",
       "      <th>A</th>\n",
       "      <td>0.022030</td>\n",
       "    </tr>\n",
       "    <tr>\n",
       "      <th>TM</th>\n",
       "      <td>0.008980</td>\n",
       "    </tr>\n",
       "    <tr>\n",
       "      <th>%RIT1</th>\n",
       "      <td>0.000309</td>\n",
       "    </tr>\n",
       "    <tr>\n",
       "      <th>B</th>\n",
       "      <td>0.000149</td>\n",
       "    </tr>\n",
       "    <tr>\n",
       "      <th>%RIT2</th>\n",
       "      <td>0.000000</td>\n",
       "    </tr>\n",
       "  </tbody>\n",
       "</table>\n",
       "</div>"
      ],
      "text/plain": [
       "             Importances\n",
       "feature_agg             \n",
       "Iva             0.513433\n",
       "TIva            0.111246\n",
       "CoDitta         0.095645\n",
       "Tdoc            0.062872\n",
       "Importo         0.044129\n",
       "Conto           0.040705\n",
       "Ateco           0.035726\n",
       "Caus            0.034576\n",
       "ContoStd        0.030198\n",
       "A               0.022030\n",
       "TM              0.008980\n",
       "%RIT1           0.000309\n",
       "B               0.000149\n",
       "%RIT2           0.000000"
      ]
     },
     "execution_count": 70,
     "metadata": {},
     "output_type": "execute_result"
    }
   ],
   "source": [
    "importances_numbers[\"feature_agg\"] = importances_numbers[\"Features\"].apply(lambda x: x.split(\"_\")[0])\n",
    "importances_numbers.groupby(\"feature_agg\").sum()[\"Importances\"].to_frame().sort_values(\"Importances\", ascending=False)"
   ]
  },
  {
   "cell_type": "code",
   "execution_count": 69,
   "metadata": {},
   "outputs": [
    {
     "data": {
      "text/plain": [
       "0.973076633827179"
      ]
     },
     "execution_count": 69,
     "metadata": {},
     "output_type": "execute_result"
    }
   ],
   "source": [
    "from sklearn.tree import DecisionTreeClassifier, export_graphviz\n",
    "model_dt = DecisionTreeClassifier(random_state=42)\n",
    "model_dt.fit(X_train, y_train)\n",
    "\n",
    "# Making predictions on the test set\n",
    "test_predictions = model_dt.predict(X_test)\n",
    "accuracy = accuracy_score(y_test, test_predictions)\n",
    "accuracy"
   ]
  },
  {
   "cell_type": "code",
   "execution_count": 53,
   "metadata": {},
   "outputs": [
    {
     "data": {
      "application/vnd.plotly.v1+json": {
       "config": {
        "plotlyServerURL": "https://plot.ly"
       },
       "data": [
        {
         "alignmentgroup": "True",
         "hovertemplate": "Importances=%{x}<br>Features=%{y}<extra></extra>",
         "legendgroup": "",
         "marker": {
          "color": "#636efa",
          "pattern": {
           "shape": ""
          }
         },
         "name": "",
         "offsetgroup": "",
         "orientation": "h",
         "showlegend": false,
         "textposition": "auto",
         "type": "bar",
         "x": [
          0.13516796883231108,
          0.1112463884259281,
          0.09564546577904466,
          0.08313404540871275,
          0.05631170985101478,
          0.04788315086844758,
          0.044128653862426676,
          0.04374231588828524,
          0.04343908130096119,
          0.04070543713213405,
          0.0380136778972438,
          0.035726343971864555,
          0.034576051045189606,
          0.031389086811423106,
          0.03019806928425889,
          0.02957520551130976,
          0.020332575637844397,
          0.01316599610095811,
          0.012510504250951885,
          0.010297572759207825,
          0.007746606340208817,
          0.0074519897156170535,
          0.007052525946979955,
          0.006627217045992301,
          0.005433499710997731,
          0.0015969054506038407,
          0.0012696349668170736,
          0.0009743925311030537,
          0.0009736032552872222,
          0.0007201841072267006,
          0.0005535732693328478,
          0.0005298427463404118,
          0.00030905734627495885,
          0.00030739988019281146,
          0.00022924926506017864,
          0.00020031449661807416,
          0.00014889816636131834,
          0.00014297412441232075,
          0.00014069402698160366,
          0.00009770817857914105,
          0.00008559294718319814,
          0.0000840707856361036,
          0.0000709205749883616,
          0.00006384450168688577,
          0,
          0,
          0,
          0,
          0,
          0,
          0,
          0,
          0,
          0,
          0,
          0,
          0,
          0,
          0,
          0,
          0,
          0,
          0,
          0,
          0,
          0
         ],
         "xaxis": "x",
         "y": [
          "Iva_N3.5",
          "TIva",
          "CoDitta",
          "Iva_N6.7",
          "Iva_N2",
          "Tdoc_TD04",
          "Importo",
          "Iva_N2.2",
          "Iva_N4",
          "Conto",
          "Iva_N3.2",
          "Ateco",
          "Caus",
          "Iva_N2.1",
          "ContoStd",
          "Iva_N3.1",
          "A_5",
          "Tdoc_TD24",
          "Iva_N6.3",
          "Iva_N6.1",
          "Iva_N3.4",
          "Iva_N5",
          "Iva_N6.5",
          "Iva_N3.3",
          "TM_18",
          "Tdoc_TD06",
          "TM_7",
          "TM_3",
          "Iva_N3",
          "A_6",
          "TM_8",
          "TM_16",
          "%RIT1",
          "A_7",
          "A_3",
          "A_2",
          "B_1",
          "A_S",
          "Tdoc_TD02",
          "A_4",
          "Tdoc_TD05",
          "TM_13",
          "TM_19",
          "TM_4",
          "Tdoc_TD03",
          "%RIT2",
          "Tdoc_TD17",
          "Tdoc_TD25",
          "Tdoc_TD26",
          "Tdoc_TD27",
          "A_A",
          "A_O",
          "A_N",
          "TM_20",
          "A_G",
          "Iva_N6.2",
          "Iva_N3.6",
          "Iva_N6",
          "TM_15",
          "TM_14",
          "Iva_N7",
          "Iva_N6.9",
          "Iva_N6.8",
          "A_E",
          "Iva_N6.6",
          "Iva_N6.4"
         ],
         "yaxis": "y"
        }
       ],
       "layout": {
        "barmode": "relative",
        "legend": {
         "tracegroupgap": 0
        },
        "template": {
         "data": {
          "bar": [
           {
            "error_x": {
             "color": "#2a3f5f"
            },
            "error_y": {
             "color": "#2a3f5f"
            },
            "marker": {
             "line": {
              "color": "#E5ECF6",
              "width": 0.5
             },
             "pattern": {
              "fillmode": "overlay",
              "size": 10,
              "solidity": 0.2
             }
            },
            "type": "bar"
           }
          ],
          "barpolar": [
           {
            "marker": {
             "line": {
              "color": "#E5ECF6",
              "width": 0.5
             },
             "pattern": {
              "fillmode": "overlay",
              "size": 10,
              "solidity": 0.2
             }
            },
            "type": "barpolar"
           }
          ],
          "carpet": [
           {
            "aaxis": {
             "endlinecolor": "#2a3f5f",
             "gridcolor": "white",
             "linecolor": "white",
             "minorgridcolor": "white",
             "startlinecolor": "#2a3f5f"
            },
            "baxis": {
             "endlinecolor": "#2a3f5f",
             "gridcolor": "white",
             "linecolor": "white",
             "minorgridcolor": "white",
             "startlinecolor": "#2a3f5f"
            },
            "type": "carpet"
           }
          ],
          "choropleth": [
           {
            "colorbar": {
             "outlinewidth": 0,
             "ticks": ""
            },
            "type": "choropleth"
           }
          ],
          "contour": [
           {
            "colorbar": {
             "outlinewidth": 0,
             "ticks": ""
            },
            "colorscale": [
             [
              0,
              "#0d0887"
             ],
             [
              0.1111111111111111,
              "#46039f"
             ],
             [
              0.2222222222222222,
              "#7201a8"
             ],
             [
              0.3333333333333333,
              "#9c179e"
             ],
             [
              0.4444444444444444,
              "#bd3786"
             ],
             [
              0.5555555555555556,
              "#d8576b"
             ],
             [
              0.6666666666666666,
              "#ed7953"
             ],
             [
              0.7777777777777778,
              "#fb9f3a"
             ],
             [
              0.8888888888888888,
              "#fdca26"
             ],
             [
              1,
              "#f0f921"
             ]
            ],
            "type": "contour"
           }
          ],
          "contourcarpet": [
           {
            "colorbar": {
             "outlinewidth": 0,
             "ticks": ""
            },
            "type": "contourcarpet"
           }
          ],
          "heatmap": [
           {
            "colorbar": {
             "outlinewidth": 0,
             "ticks": ""
            },
            "colorscale": [
             [
              0,
              "#0d0887"
             ],
             [
              0.1111111111111111,
              "#46039f"
             ],
             [
              0.2222222222222222,
              "#7201a8"
             ],
             [
              0.3333333333333333,
              "#9c179e"
             ],
             [
              0.4444444444444444,
              "#bd3786"
             ],
             [
              0.5555555555555556,
              "#d8576b"
             ],
             [
              0.6666666666666666,
              "#ed7953"
             ],
             [
              0.7777777777777778,
              "#fb9f3a"
             ],
             [
              0.8888888888888888,
              "#fdca26"
             ],
             [
              1,
              "#f0f921"
             ]
            ],
            "type": "heatmap"
           }
          ],
          "heatmapgl": [
           {
            "colorbar": {
             "outlinewidth": 0,
             "ticks": ""
            },
            "colorscale": [
             [
              0,
              "#0d0887"
             ],
             [
              0.1111111111111111,
              "#46039f"
             ],
             [
              0.2222222222222222,
              "#7201a8"
             ],
             [
              0.3333333333333333,
              "#9c179e"
             ],
             [
              0.4444444444444444,
              "#bd3786"
             ],
             [
              0.5555555555555556,
              "#d8576b"
             ],
             [
              0.6666666666666666,
              "#ed7953"
             ],
             [
              0.7777777777777778,
              "#fb9f3a"
             ],
             [
              0.8888888888888888,
              "#fdca26"
             ],
             [
              1,
              "#f0f921"
             ]
            ],
            "type": "heatmapgl"
           }
          ],
          "histogram": [
           {
            "marker": {
             "pattern": {
              "fillmode": "overlay",
              "size": 10,
              "solidity": 0.2
             }
            },
            "type": "histogram"
           }
          ],
          "histogram2d": [
           {
            "colorbar": {
             "outlinewidth": 0,
             "ticks": ""
            },
            "colorscale": [
             [
              0,
              "#0d0887"
             ],
             [
              0.1111111111111111,
              "#46039f"
             ],
             [
              0.2222222222222222,
              "#7201a8"
             ],
             [
              0.3333333333333333,
              "#9c179e"
             ],
             [
              0.4444444444444444,
              "#bd3786"
             ],
             [
              0.5555555555555556,
              "#d8576b"
             ],
             [
              0.6666666666666666,
              "#ed7953"
             ],
             [
              0.7777777777777778,
              "#fb9f3a"
             ],
             [
              0.8888888888888888,
              "#fdca26"
             ],
             [
              1,
              "#f0f921"
             ]
            ],
            "type": "histogram2d"
           }
          ],
          "histogram2dcontour": [
           {
            "colorbar": {
             "outlinewidth": 0,
             "ticks": ""
            },
            "colorscale": [
             [
              0,
              "#0d0887"
             ],
             [
              0.1111111111111111,
              "#46039f"
             ],
             [
              0.2222222222222222,
              "#7201a8"
             ],
             [
              0.3333333333333333,
              "#9c179e"
             ],
             [
              0.4444444444444444,
              "#bd3786"
             ],
             [
              0.5555555555555556,
              "#d8576b"
             ],
             [
              0.6666666666666666,
              "#ed7953"
             ],
             [
              0.7777777777777778,
              "#fb9f3a"
             ],
             [
              0.8888888888888888,
              "#fdca26"
             ],
             [
              1,
              "#f0f921"
             ]
            ],
            "type": "histogram2dcontour"
           }
          ],
          "mesh3d": [
           {
            "colorbar": {
             "outlinewidth": 0,
             "ticks": ""
            },
            "type": "mesh3d"
           }
          ],
          "parcoords": [
           {
            "line": {
             "colorbar": {
              "outlinewidth": 0,
              "ticks": ""
             }
            },
            "type": "parcoords"
           }
          ],
          "pie": [
           {
            "automargin": true,
            "type": "pie"
           }
          ],
          "scatter": [
           {
            "fillpattern": {
             "fillmode": "overlay",
             "size": 10,
             "solidity": 0.2
            },
            "type": "scatter"
           }
          ],
          "scatter3d": [
           {
            "line": {
             "colorbar": {
              "outlinewidth": 0,
              "ticks": ""
             }
            },
            "marker": {
             "colorbar": {
              "outlinewidth": 0,
              "ticks": ""
             }
            },
            "type": "scatter3d"
           }
          ],
          "scattercarpet": [
           {
            "marker": {
             "colorbar": {
              "outlinewidth": 0,
              "ticks": ""
             }
            },
            "type": "scattercarpet"
           }
          ],
          "scattergeo": [
           {
            "marker": {
             "colorbar": {
              "outlinewidth": 0,
              "ticks": ""
             }
            },
            "type": "scattergeo"
           }
          ],
          "scattergl": [
           {
            "marker": {
             "colorbar": {
              "outlinewidth": 0,
              "ticks": ""
             }
            },
            "type": "scattergl"
           }
          ],
          "scattermapbox": [
           {
            "marker": {
             "colorbar": {
              "outlinewidth": 0,
              "ticks": ""
             }
            },
            "type": "scattermapbox"
           }
          ],
          "scatterpolar": [
           {
            "marker": {
             "colorbar": {
              "outlinewidth": 0,
              "ticks": ""
             }
            },
            "type": "scatterpolar"
           }
          ],
          "scatterpolargl": [
           {
            "marker": {
             "colorbar": {
              "outlinewidth": 0,
              "ticks": ""
             }
            },
            "type": "scatterpolargl"
           }
          ],
          "scatterternary": [
           {
            "marker": {
             "colorbar": {
              "outlinewidth": 0,
              "ticks": ""
             }
            },
            "type": "scatterternary"
           }
          ],
          "surface": [
           {
            "colorbar": {
             "outlinewidth": 0,
             "ticks": ""
            },
            "colorscale": [
             [
              0,
              "#0d0887"
             ],
             [
              0.1111111111111111,
              "#46039f"
             ],
             [
              0.2222222222222222,
              "#7201a8"
             ],
             [
              0.3333333333333333,
              "#9c179e"
             ],
             [
              0.4444444444444444,
              "#bd3786"
             ],
             [
              0.5555555555555556,
              "#d8576b"
             ],
             [
              0.6666666666666666,
              "#ed7953"
             ],
             [
              0.7777777777777778,
              "#fb9f3a"
             ],
             [
              0.8888888888888888,
              "#fdca26"
             ],
             [
              1,
              "#f0f921"
             ]
            ],
            "type": "surface"
           }
          ],
          "table": [
           {
            "cells": {
             "fill": {
              "color": "#EBF0F8"
             },
             "line": {
              "color": "white"
             }
            },
            "header": {
             "fill": {
              "color": "#C8D4E3"
             },
             "line": {
              "color": "white"
             }
            },
            "type": "table"
           }
          ]
         },
         "layout": {
          "annotationdefaults": {
           "arrowcolor": "#2a3f5f",
           "arrowhead": 0,
           "arrowwidth": 1
          },
          "autotypenumbers": "strict",
          "coloraxis": {
           "colorbar": {
            "outlinewidth": 0,
            "ticks": ""
           }
          },
          "colorscale": {
           "diverging": [
            [
             0,
             "#8e0152"
            ],
            [
             0.1,
             "#c51b7d"
            ],
            [
             0.2,
             "#de77ae"
            ],
            [
             0.3,
             "#f1b6da"
            ],
            [
             0.4,
             "#fde0ef"
            ],
            [
             0.5,
             "#f7f7f7"
            ],
            [
             0.6,
             "#e6f5d0"
            ],
            [
             0.7,
             "#b8e186"
            ],
            [
             0.8,
             "#7fbc41"
            ],
            [
             0.9,
             "#4d9221"
            ],
            [
             1,
             "#276419"
            ]
           ],
           "sequential": [
            [
             0,
             "#0d0887"
            ],
            [
             0.1111111111111111,
             "#46039f"
            ],
            [
             0.2222222222222222,
             "#7201a8"
            ],
            [
             0.3333333333333333,
             "#9c179e"
            ],
            [
             0.4444444444444444,
             "#bd3786"
            ],
            [
             0.5555555555555556,
             "#d8576b"
            ],
            [
             0.6666666666666666,
             "#ed7953"
            ],
            [
             0.7777777777777778,
             "#fb9f3a"
            ],
            [
             0.8888888888888888,
             "#fdca26"
            ],
            [
             1,
             "#f0f921"
            ]
           ],
           "sequentialminus": [
            [
             0,
             "#0d0887"
            ],
            [
             0.1111111111111111,
             "#46039f"
            ],
            [
             0.2222222222222222,
             "#7201a8"
            ],
            [
             0.3333333333333333,
             "#9c179e"
            ],
            [
             0.4444444444444444,
             "#bd3786"
            ],
            [
             0.5555555555555556,
             "#d8576b"
            ],
            [
             0.6666666666666666,
             "#ed7953"
            ],
            [
             0.7777777777777778,
             "#fb9f3a"
            ],
            [
             0.8888888888888888,
             "#fdca26"
            ],
            [
             1,
             "#f0f921"
            ]
           ]
          },
          "colorway": [
           "#636efa",
           "#EF553B",
           "#00cc96",
           "#ab63fa",
           "#FFA15A",
           "#19d3f3",
           "#FF6692",
           "#B6E880",
           "#FF97FF",
           "#FECB52"
          ],
          "font": {
           "color": "#2a3f5f"
          },
          "geo": {
           "bgcolor": "white",
           "lakecolor": "white",
           "landcolor": "#E5ECF6",
           "showlakes": true,
           "showland": true,
           "subunitcolor": "white"
          },
          "hoverlabel": {
           "align": "left"
          },
          "hovermode": "closest",
          "mapbox": {
           "style": "light"
          },
          "paper_bgcolor": "white",
          "plot_bgcolor": "#E5ECF6",
          "polar": {
           "angularaxis": {
            "gridcolor": "white",
            "linecolor": "white",
            "ticks": ""
           },
           "bgcolor": "#E5ECF6",
           "radialaxis": {
            "gridcolor": "white",
            "linecolor": "white",
            "ticks": ""
           }
          },
          "scene": {
           "xaxis": {
            "backgroundcolor": "#E5ECF6",
            "gridcolor": "white",
            "gridwidth": 2,
            "linecolor": "white",
            "showbackground": true,
            "ticks": "",
            "zerolinecolor": "white"
           },
           "yaxis": {
            "backgroundcolor": "#E5ECF6",
            "gridcolor": "white",
            "gridwidth": 2,
            "linecolor": "white",
            "showbackground": true,
            "ticks": "",
            "zerolinecolor": "white"
           },
           "zaxis": {
            "backgroundcolor": "#E5ECF6",
            "gridcolor": "white",
            "gridwidth": 2,
            "linecolor": "white",
            "showbackground": true,
            "ticks": "",
            "zerolinecolor": "white"
           }
          },
          "shapedefaults": {
           "line": {
            "color": "#2a3f5f"
           }
          },
          "ternary": {
           "aaxis": {
            "gridcolor": "white",
            "linecolor": "white",
            "ticks": ""
           },
           "baxis": {
            "gridcolor": "white",
            "linecolor": "white",
            "ticks": ""
           },
           "bgcolor": "#E5ECF6",
           "caxis": {
            "gridcolor": "white",
            "linecolor": "white",
            "ticks": ""
           }
          },
          "title": {
           "x": 0.05
          },
          "xaxis": {
           "automargin": true,
           "gridcolor": "white",
           "linecolor": "white",
           "ticks": "",
           "title": {
            "standoff": 15
           },
           "zerolinecolor": "white",
           "zerolinewidth": 2
          },
          "yaxis": {
           "automargin": true,
           "gridcolor": "white",
           "linecolor": "white",
           "ticks": "",
           "title": {
            "standoff": 15
           },
           "zerolinecolor": "white",
           "zerolinewidth": 2
          }
         }
        },
        "title": {
         "text": "Feature Importances in Random Forest"
        },
        "xaxis": {
         "anchor": "y",
         "domain": [
          0,
          1
         ],
         "title": {
          "text": "Importances"
         }
        },
        "yaxis": {
         "anchor": "x",
         "domain": [
          0,
          1
         ],
         "title": {
          "text": "Features"
         }
        }
       }
      }
     },
     "metadata": {},
     "output_type": "display_data"
    },
    {
     "data": {
      "text/html": [
       "<div>\n",
       "<style scoped>\n",
       "    .dataframe tbody tr th:only-of-type {\n",
       "        vertical-align: middle;\n",
       "    }\n",
       "\n",
       "    .dataframe tbody tr th {\n",
       "        vertical-align: top;\n",
       "    }\n",
       "\n",
       "    .dataframe thead th {\n",
       "        text-align: right;\n",
       "    }\n",
       "</style>\n",
       "<table border=\"1\" class=\"dataframe\">\n",
       "  <thead>\n",
       "    <tr style=\"text-align: right;\">\n",
       "      <th></th>\n",
       "      <th>Features</th>\n",
       "      <th>Importances</th>\n",
       "    </tr>\n",
       "  </thead>\n",
       "  <tbody>\n",
       "    <tr>\n",
       "      <th>31</th>\n",
       "      <td>Iva_N3.5</td>\n",
       "      <td>0.135168</td>\n",
       "    </tr>\n",
       "    <tr>\n",
       "      <th>64</th>\n",
       "      <td>TIva</td>\n",
       "      <td>0.111246</td>\n",
       "    </tr>\n",
       "    <tr>\n",
       "      <th>63</th>\n",
       "      <td>CoDitta</td>\n",
       "      <td>0.095645</td>\n",
       "    </tr>\n",
       "    <tr>\n",
       "      <th>42</th>\n",
       "      <td>Iva_N6.7</td>\n",
       "      <td>0.083134</td>\n",
       "    </tr>\n",
       "    <tr>\n",
       "      <th>23</th>\n",
       "      <td>Iva_N2</td>\n",
       "      <td>0.056312</td>\n",
       "    </tr>\n",
       "    <tr>\n",
       "      <th>...</th>\n",
       "      <td>...</td>\n",
       "      <td>...</td>\n",
       "    </tr>\n",
       "    <tr>\n",
       "      <th>44</th>\n",
       "      <td>Iva_N6.9</td>\n",
       "      <td>0.000000</td>\n",
       "    </tr>\n",
       "    <tr>\n",
       "      <th>43</th>\n",
       "      <td>Iva_N6.8</td>\n",
       "      <td>0.000000</td>\n",
       "    </tr>\n",
       "    <tr>\n",
       "      <th>7</th>\n",
       "      <td>A_E</td>\n",
       "      <td>0.000000</td>\n",
       "    </tr>\n",
       "    <tr>\n",
       "      <th>41</th>\n",
       "      <td>Iva_N6.6</td>\n",
       "      <td>0.000000</td>\n",
       "    </tr>\n",
       "    <tr>\n",
       "      <th>39</th>\n",
       "      <td>Iva_N6.4</td>\n",
       "      <td>0.000000</td>\n",
       "    </tr>\n",
       "  </tbody>\n",
       "</table>\n",
       "<p>66 rows × 2 columns</p>\n",
       "</div>"
      ],
      "text/plain": [
       "    Features  Importances\n",
       "31  Iva_N3.5     0.135168\n",
       "64      TIva     0.111246\n",
       "63   CoDitta     0.095645\n",
       "42  Iva_N6.7     0.083134\n",
       "23    Iva_N2     0.056312\n",
       "..       ...          ...\n",
       "44  Iva_N6.9     0.000000\n",
       "43  Iva_N6.8     0.000000\n",
       "7        A_E     0.000000\n",
       "41  Iva_N6.6     0.000000\n",
       "39  Iva_N6.4     0.000000\n",
       "\n",
       "[66 rows x 2 columns]"
      ]
     },
     "execution_count": 53,
     "metadata": {},
     "output_type": "execute_result"
    }
   ],
   "source": [
    "importances_numbers = plot_feature_importance(model_dt)\n",
    "importances_numbers"
   ]
  },
  {
   "cell_type": "code",
   "execution_count": 68,
   "metadata": {},
   "outputs": [
    {
     "data": {
      "text/html": [
       "<div>\n",
       "<style scoped>\n",
       "    .dataframe tbody tr th:only-of-type {\n",
       "        vertical-align: middle;\n",
       "    }\n",
       "\n",
       "    .dataframe tbody tr th {\n",
       "        vertical-align: top;\n",
       "    }\n",
       "\n",
       "    .dataframe thead th {\n",
       "        text-align: right;\n",
       "    }\n",
       "</style>\n",
       "<table border=\"1\" class=\"dataframe\">\n",
       "  <thead>\n",
       "    <tr style=\"text-align: right;\">\n",
       "      <th></th>\n",
       "      <th>Importances</th>\n",
       "    </tr>\n",
       "    <tr>\n",
       "      <th>feature_agg</th>\n",
       "      <th></th>\n",
       "    </tr>\n",
       "  </thead>\n",
       "  <tbody>\n",
       "    <tr>\n",
       "      <th>Iva</th>\n",
       "      <td>0.513433</td>\n",
       "    </tr>\n",
       "    <tr>\n",
       "      <th>TIva</th>\n",
       "      <td>0.111246</td>\n",
       "    </tr>\n",
       "    <tr>\n",
       "      <th>CoDitta</th>\n",
       "      <td>0.095645</td>\n",
       "    </tr>\n",
       "    <tr>\n",
       "      <th>Tdoc</th>\n",
       "      <td>0.062872</td>\n",
       "    </tr>\n",
       "    <tr>\n",
       "      <th>Importo</th>\n",
       "      <td>0.044129</td>\n",
       "    </tr>\n",
       "    <tr>\n",
       "      <th>Conto</th>\n",
       "      <td>0.040705</td>\n",
       "    </tr>\n",
       "    <tr>\n",
       "      <th>Ateco</th>\n",
       "      <td>0.035726</td>\n",
       "    </tr>\n",
       "    <tr>\n",
       "      <th>Caus</th>\n",
       "      <td>0.034576</td>\n",
       "    </tr>\n",
       "    <tr>\n",
       "      <th>ContoStd</th>\n",
       "      <td>0.030198</td>\n",
       "    </tr>\n",
       "    <tr>\n",
       "      <th>A</th>\n",
       "      <td>0.022030</td>\n",
       "    </tr>\n",
       "    <tr>\n",
       "      <th>TM</th>\n",
       "      <td>0.008980</td>\n",
       "    </tr>\n",
       "    <tr>\n",
       "      <th>%RIT1</th>\n",
       "      <td>0.000309</td>\n",
       "    </tr>\n",
       "    <tr>\n",
       "      <th>B</th>\n",
       "      <td>0.000149</td>\n",
       "    </tr>\n",
       "    <tr>\n",
       "      <th>%RIT2</th>\n",
       "      <td>0.000000</td>\n",
       "    </tr>\n",
       "  </tbody>\n",
       "</table>\n",
       "</div>"
      ],
      "text/plain": [
       "             Importances\n",
       "feature_agg             \n",
       "Iva             0.513433\n",
       "TIva            0.111246\n",
       "CoDitta         0.095645\n",
       "Tdoc            0.062872\n",
       "Importo         0.044129\n",
       "Conto           0.040705\n",
       "Ateco           0.035726\n",
       "Caus            0.034576\n",
       "ContoStd        0.030198\n",
       "A               0.022030\n",
       "TM              0.008980\n",
       "%RIT1           0.000309\n",
       "B               0.000149\n",
       "%RIT2           0.000000"
      ]
     },
     "execution_count": 68,
     "metadata": {},
     "output_type": "execute_result"
    }
   ],
   "source": [
    "importances_numbers[\"feature_agg\"] = importances_numbers[\"Features\"].apply(lambda x: x.split(\"_\")[0])\n",
    "importances_numbers.groupby(\"feature_agg\").sum()[\"Importances\"].to_frame().sort_values(\"Importances\", ascending=False)"
   ]
  },
  {
   "cell_type": "markdown",
   "metadata": {},
   "source": [
    "We can definitely get rid of %RIT1, %RIT2, B\n",
    "Potentially get rid of A (removes 12 features), TM (removes 11 features)\n",
    "\n",
    "could change: \"TIva\", \"Caus\", \"Ateco\", \"Conto\", \"ContoStd\", \"CoDitta\""
   ]
  },
  {
   "cell_type": "code",
   "execution_count": 56,
   "metadata": {},
   "outputs": [],
   "source": [
    "plot_decision_tree(model_dt)"
   ]
  },
  {
   "cell_type": "code",
   "execution_count": 55,
   "metadata": {},
   "outputs": [
    {
     "data": {
      "image/png": "[encoded data removed]",
      "text/plain": [
       "<Figure size 2500x1000 with 2 Axes>"
      ]
     },
     "metadata": {},
     "output_type": "display_data"
    }
   ],
   "source": [
    "test_predictions = model_dt.predict(X_test)\n",
    "\n",
    "y_pred2 = np.argmax(test_predictions, axis=1)\n",
    "y_test2 = np.argmax(y_test.values, axis=1)\n",
    "\n",
    "conf_matrix = confusion_matrix(y_test2, y_pred2)\n",
    "\n",
    "# Plotting the confusion matrix\n",
    "plt.figure(figsize=(25, 10))\n",
    "sns.heatmap(conf_matrix, annot=True, fmt='d', cmap='Blues')\n",
    "plt.title('Confusion Matrix')\n",
    "plt.ylabel('True Label')\n",
    "plt.xlabel('Predicted Label')\n",
    "plt.show()"
   ]
  }
 ],
 "metadata": {
  "kernelspec": {
   "display_name": "env_project",
   "language": "python",
   "name": "python3"
  },
  "language_info": {
   "codemirror_mode": {
    "name": "ipython",
    "version": 3
   },
   "file_extension": ".py",
   "mimetype": "text/x-python",
   "name": "python",
   "nbconvert_exporter": "python",
   "pygments_lexer": "ipython3",
   "version": "3.10.2"
  }
 },
 "nbformat": 4,
 "nbformat_minor": 2
}
